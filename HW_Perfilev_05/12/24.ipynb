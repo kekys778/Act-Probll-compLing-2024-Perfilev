{
  "cells": [
    {
      "cell_type": "markdown",
      "source": [
        "# ***1. Доп. ранжирование по вероятности (3 балла)***\n",
        "Дополните get_closest_hybrid_match в семинаре так, чтобы из кандадатов с одинаковым расстоянием редактирования выбиралось наиболее вероятное."
      ],
      "metadata": {
        "id": "62OMrOJyo77a"
      }
    },
    {
      "cell_type": "code",
      "execution_count": 182,
      "metadata": {
        "colab": {
          "base_uri": "https://localhost:8080/"
        },
        "id": "SVQLo6Rsb_pE",
        "outputId": "9b81819d-0c94-49cd-f827-4528034072c6"
      },
      "outputs": [
        {
          "output_type": "stream",
          "name": "stdout",
          "text": [
            "Requirement already satisfied: razdel in /usr/local/lib/python3.10/dist-packages (0.5.0)\n",
            "Requirement already satisfied: tqdm in /usr/local/lib/python3.10/dist-packages (4.66.6)\n"
          ]
        }
      ],
      "source": [
        "!pip install razdel tqdm"
      ]
    },
    {
      "cell_type": "code",
      "execution_count": 183,
      "metadata": {
        "id": "eMY1Qj1abwOG"
      },
      "outputs": [],
      "source": [
        "import os, re\n",
        "from string import punctuation\n",
        "import numpy as np\n",
        "import json\n",
        "from collections import Counter\n",
        "from pprint import pprint\n",
        "from nltk import sent_tokenize\n",
        "punctuation += \"«»—…“”\"\n",
        "punct = set(punctuation)\n",
        "from sklearn.metrics import classification_report, accuracy_score\n",
        "from string import punctuation\n",
        "from razdel import sentenize\n",
        "from razdel import tokenize as razdel_tokenize\n",
        "import numpy as np\n",
        "from collections import Counter\n",
        "import pandas as pd\n",
        "import numpy as np\n",
        "from tqdm import tqdm\n"
      ]
    },
    {
      "cell_type": "code",
      "execution_count": 186,
      "metadata": {
        "colab": {
          "base_uri": "https://localhost:8080/"
        },
        "id": "p8vkZC93b_Kc",
        "outputId": "3fba5fe6-60c6-4078-bd70-c7cddff7e6aa"
      },
      "outputs": [
        {
          "output_type": "stream",
          "name": "stdout",
          "text": [
            "--2024-12-05 20:29:58--  https://github.com/mannefedov/compling_nlp_hse_course/raw/refs/heads/master/notebooks/spelling/data.zip\n",
            "Resolving github.com (github.com)... 140.82.114.3\n",
            "Connecting to github.com (github.com)|140.82.114.3|:443... connected.\n",
            "HTTP request sent, awaiting response... 302 Found\n",
            "Location: https://raw.githubusercontent.com/mannefedov/compling_nlp_hse_course/refs/heads/master/notebooks/spelling/data.zip [following]\n",
            "--2024-12-05 20:29:59--  https://raw.githubusercontent.com/mannefedov/compling_nlp_hse_course/refs/heads/master/notebooks/spelling/data.zip\n",
            "Resolving raw.githubusercontent.com (raw.githubusercontent.com)... 185.199.109.133, 185.199.111.133, 185.199.110.133, ...\n",
            "Connecting to raw.githubusercontent.com (raw.githubusercontent.com)|185.199.109.133|:443... connected.\n",
            "HTTP request sent, awaiting response... 200 OK\n",
            "Length: 18787000 (18M) [application/zip]\n",
            "Saving to: ‘data.zip.2’\n",
            "\n",
            "data.zip.2          100%[===================>]  17.92M  --.-KB/s    in 0.1s    \n",
            "\n",
            "2024-12-05 20:29:59 (146 MB/s) - ‘data.zip.2’ saved [18787000/18787000]\n",
            "\n",
            "Archive:  data.zip\n",
            "  inflating: correct_sents.txt       \n",
            "  inflating: sents_with_mistakes.txt  \n",
            "  inflating: wiki_data.txt           \n",
            "  inflating: __MACOSX/._wiki_data.txt  \n"
          ]
        }
      ],
      "source": [
        "!wget https://github.com/mannefedov/compling_nlp_hse_course/raw/refs/heads/master/notebooks/spelling/data.zip\n",
        "\n",
        "!unzip -o data.zip"
      ]
    },
    {
      "cell_type": "code",
      "execution_count": 188,
      "metadata": {
        "colab": {
          "base_uri": "https://localhost:8080/"
        },
        "id": "d5IhLEoVgs5z",
        "outputId": "c47681c7-a184-4439-ac05-985ec30bdb6c"
      },
      "outputs": [
        {
          "output_type": "stream",
          "name": "stdout",
          "text": [
            "Requirement already satisfied: textdistance in /usr/local/lib/python3.10/dist-packages (4.6.3)\n"
          ]
        }
      ],
      "source": [
        "!pip install textdistance\n",
        "import textdistance\n",
        "import numpy as np\n",
        "from sklearn.feature_extraction.text import CountVectorizer, TfidfVectorizer\n",
        "from sklearn.metrics.pairwise import cosine_similarity, cosine_distances"
      ]
    },
    {
      "cell_type": "code",
      "execution_count": 191,
      "metadata": {
        "id": "yjJ1WOiVey49"
      },
      "outputs": [],
      "source": [
        "corpus = open('wiki_data.txt', encoding='utf8').read()"
      ]
    },
    {
      "cell_type": "code",
      "execution_count": 192,
      "metadata": {
        "id": "eEQaMQL9e2pK"
      },
      "outputs": [],
      "source": [
        "vocab = Counter(re.findall('\\w+', corpus.lower()))\n",
        "\n",
        "word2id = list(vocab.keys())\n",
        "id2word = {i:word for i, word in enumerate(vocab)}\n",
        "\n",
        "\n",
        "vec = CountVectorizer(analyzer='char', max_features=10000, ngram_range=(1,3))\n",
        "X = vec.fit_transform(vocab)"
      ]
    },
    {
      "cell_type": "code",
      "execution_count": 193,
      "metadata": {
        "id": "C-Mq9HZVf-ic"
      },
      "outputs": [],
      "source": [
        "def get_closest_match_vec(text, X, vec, topn=20):\n",
        "    v = vec.transform([text])\n",
        "\n",
        "    # вся эффективноть берется из того, что мы сразу считаем близость\n",
        "    # 1 вектора ко всей матрице (словам в словаре)\n",
        "    # считать по отдельности циклом было бы дольше\n",
        "    # вместо одного вектора может даже целая матрица\n",
        "    # тогда считаться в итоге будет ещё быстрее\n",
        "\n",
        "    similarities = cosine_distances(v, X)[0]\n",
        "    topn = similarities.argsort()[:topn]\n",
        "\n",
        "    return [(id2word[top], similarities[top]) for top in topn]"
      ]
    },
    {
      "cell_type": "code",
      "execution_count": 194,
      "metadata": {
        "id": "qy-QVuEQgm6l"
      },
      "outputs": [],
      "source": [
        "def get_closest_match_with_metric(text, lookup, topn=20, metric=textdistance.levenshtein):\n",
        "    # Counter можно использовать и с не целыми числами\n",
        "    similarities = Counter()\n",
        "\n",
        "    for word in lookup:\n",
        "        similarities[word] = metric.normalized_similarity(text, word)\n",
        "\n",
        "    return similarities.most_common(topn)"
      ]
    },
    {
      "cell_type": "code",
      "execution_count": 195,
      "metadata": {
        "id": "Cg8WXjfcgOgM"
      },
      "outputs": [],
      "source": [
        "def get_closest_hybrid_match(text, X, vec, topn=3, metric=textdistance.damerau_levenshtein):\n",
        "    candidates = get_closest_match_vec(text, X, vec, topn*4)\n",
        "    lookup = [cand[0] for cand in candidates]\n",
        "    closest = get_closest_match_with_metric(text, lookup, topn, metric=metric)\n",
        "\n",
        "\n",
        "    return closest"
      ]
    },
    {
      "cell_type": "code",
      "execution_count": 196,
      "metadata": {
        "id": "g5ZPhql4rPY1"
      },
      "outputs": [],
      "source": [
        "N = sum(vocab.values())\n",
        "\n",
        "def P(lst, N=N):\n",
        "  probab_lst=[]\n",
        "  for word in lst:\n",
        "    probab_lst.append(vocab[word] / N)\n",
        "  return probab_lst"
      ]
    },
    {
      "cell_type": "code",
      "execution_count": 197,
      "metadata": {
        "id": "F8nLWvMQgyfc"
      },
      "outputs": [],
      "source": [
        "result = get_closest_hybrid_match('жукм', X, vec)"
      ]
    },
    {
      "cell_type": "code",
      "execution_count": 198,
      "metadata": {
        "id": "587QimQ6yHZQ"
      },
      "outputs": [],
      "source": [
        "def res2df(result=result):\n",
        "  df = pd.DataFrame(result, columns=['var', 'Similarity'],\n",
        "                    index=[i for i in range(1,  len(result)+1)])\n",
        "  df['probability'] = P(df['var'].tolist(), N=N)\n",
        "  df['combined_probab'] = df.probability*df['Similarity']\n",
        "  return df.sort_values(by='probability', ascending=False)"
      ]
    },
    {
      "cell_type": "code",
      "execution_count": 199,
      "metadata": {
        "colab": {
          "base_uri": "https://localhost:8080/",
          "height": 143
        },
        "id": "GUvB6j7Xyaix",
        "outputId": "dead0723-ed16-42a7-a685-47f1fd34b0e7"
      },
      "outputs": [
        {
          "output_type": "execute_result",
          "data": {
            "text/plain": [
              "     var  Similarity   probability  combined_probab\n",
              "3    жук        0.75  2.230723e-05     1.673042e-05\n",
              "2  жуком        0.80  3.879518e-07     3.103615e-07\n",
              "1  жукам        0.80  1.939759e-07     1.551807e-07"
            ],
            "text/html": [
              "\n",
              "  <div id=\"df-7fd9ffda-863c-4ca5-8bdd-3309c04246d5\" class=\"colab-df-container\">\n",
              "    <div>\n",
              "<style scoped>\n",
              "    .dataframe tbody tr th:only-of-type {\n",
              "        vertical-align: middle;\n",
              "    }\n",
              "\n",
              "    .dataframe tbody tr th {\n",
              "        vertical-align: top;\n",
              "    }\n",
              "\n",
              "    .dataframe thead th {\n",
              "        text-align: right;\n",
              "    }\n",
              "</style>\n",
              "<table border=\"1\" class=\"dataframe\">\n",
              "  <thead>\n",
              "    <tr style=\"text-align: right;\">\n",
              "      <th></th>\n",
              "      <th>var</th>\n",
              "      <th>Similarity</th>\n",
              "      <th>probability</th>\n",
              "      <th>combined_probab</th>\n",
              "    </tr>\n",
              "  </thead>\n",
              "  <tbody>\n",
              "    <tr>\n",
              "      <th>3</th>\n",
              "      <td>жук</td>\n",
              "      <td>0.75</td>\n",
              "      <td>2.230723e-05</td>\n",
              "      <td>1.673042e-05</td>\n",
              "    </tr>\n",
              "    <tr>\n",
              "      <th>2</th>\n",
              "      <td>жуком</td>\n",
              "      <td>0.80</td>\n",
              "      <td>3.879518e-07</td>\n",
              "      <td>3.103615e-07</td>\n",
              "    </tr>\n",
              "    <tr>\n",
              "      <th>1</th>\n",
              "      <td>жукам</td>\n",
              "      <td>0.80</td>\n",
              "      <td>1.939759e-07</td>\n",
              "      <td>1.551807e-07</td>\n",
              "    </tr>\n",
              "  </tbody>\n",
              "</table>\n",
              "</div>\n",
              "    <div class=\"colab-df-buttons\">\n",
              "\n",
              "  <div class=\"colab-df-container\">\n",
              "    <button class=\"colab-df-convert\" onclick=\"convertToInteractive('df-7fd9ffda-863c-4ca5-8bdd-3309c04246d5')\"\n",
              "            title=\"Convert this dataframe to an interactive table.\"\n",
              "            style=\"display:none;\">\n",
              "\n",
              "  <svg xmlns=\"http://www.w3.org/2000/svg\" height=\"24px\" viewBox=\"0 -960 960 960\">\n",
              "    <path d=\"M120-120v-720h720v720H120Zm60-500h600v-160H180v160Zm220 220h160v-160H400v160Zm0 220h160v-160H400v160ZM180-400h160v-160H180v160Zm440 0h160v-160H620v160ZM180-180h160v-160H180v160Zm440 0h160v-160H620v160Z\"/>\n",
              "  </svg>\n",
              "    </button>\n",
              "\n",
              "  <style>\n",
              "    .colab-df-container {\n",
              "      display:flex;\n",
              "      gap: 12px;\n",
              "    }\n",
              "\n",
              "    .colab-df-convert {\n",
              "      background-color: #E8F0FE;\n",
              "      border: none;\n",
              "      border-radius: 50%;\n",
              "      cursor: pointer;\n",
              "      display: none;\n",
              "      fill: #1967D2;\n",
              "      height: 32px;\n",
              "      padding: 0 0 0 0;\n",
              "      width: 32px;\n",
              "    }\n",
              "\n",
              "    .colab-df-convert:hover {\n",
              "      background-color: #E2EBFA;\n",
              "      box-shadow: 0px 1px 2px rgba(60, 64, 67, 0.3), 0px 1px 3px 1px rgba(60, 64, 67, 0.15);\n",
              "      fill: #174EA6;\n",
              "    }\n",
              "\n",
              "    .colab-df-buttons div {\n",
              "      margin-bottom: 4px;\n",
              "    }\n",
              "\n",
              "    [theme=dark] .colab-df-convert {\n",
              "      background-color: #3B4455;\n",
              "      fill: #D2E3FC;\n",
              "    }\n",
              "\n",
              "    [theme=dark] .colab-df-convert:hover {\n",
              "      background-color: #434B5C;\n",
              "      box-shadow: 0px 1px 3px 1px rgba(0, 0, 0, 0.15);\n",
              "      filter: drop-shadow(0px 1px 2px rgba(0, 0, 0, 0.3));\n",
              "      fill: #FFFFFF;\n",
              "    }\n",
              "  </style>\n",
              "\n",
              "    <script>\n",
              "      const buttonEl =\n",
              "        document.querySelector('#df-7fd9ffda-863c-4ca5-8bdd-3309c04246d5 button.colab-df-convert');\n",
              "      buttonEl.style.display =\n",
              "        google.colab.kernel.accessAllowed ? 'block' : 'none';\n",
              "\n",
              "      async function convertToInteractive(key) {\n",
              "        const element = document.querySelector('#df-7fd9ffda-863c-4ca5-8bdd-3309c04246d5');\n",
              "        const dataTable =\n",
              "          await google.colab.kernel.invokeFunction('convertToInteractive',\n",
              "                                                    [key], {});\n",
              "        if (!dataTable) return;\n",
              "\n",
              "        const docLinkHtml = 'Like what you see? Visit the ' +\n",
              "          '<a target=\"_blank\" href=https://colab.research.google.com/notebooks/data_table.ipynb>data table notebook</a>'\n",
              "          + ' to learn more about interactive tables.';\n",
              "        element.innerHTML = '';\n",
              "        dataTable['output_type'] = 'display_data';\n",
              "        await google.colab.output.renderOutput(dataTable, element);\n",
              "        const docLink = document.createElement('div');\n",
              "        docLink.innerHTML = docLinkHtml;\n",
              "        element.appendChild(docLink);\n",
              "      }\n",
              "    </script>\n",
              "  </div>\n",
              "\n",
              "\n",
              "<div id=\"df-21d3d498-cfbd-48e4-880a-30e1d73fbc2c\">\n",
              "  <button class=\"colab-df-quickchart\" onclick=\"quickchart('df-21d3d498-cfbd-48e4-880a-30e1d73fbc2c')\"\n",
              "            title=\"Suggest charts\"\n",
              "            style=\"display:none;\">\n",
              "\n",
              "<svg xmlns=\"http://www.w3.org/2000/svg\" height=\"24px\"viewBox=\"0 0 24 24\"\n",
              "     width=\"24px\">\n",
              "    <g>\n",
              "        <path d=\"M19 3H5c-1.1 0-2 .9-2 2v14c0 1.1.9 2 2 2h14c1.1 0 2-.9 2-2V5c0-1.1-.9-2-2-2zM9 17H7v-7h2v7zm4 0h-2V7h2v10zm4 0h-2v-4h2v4z\"/>\n",
              "    </g>\n",
              "</svg>\n",
              "  </button>\n",
              "\n",
              "<style>\n",
              "  .colab-df-quickchart {\n",
              "      --bg-color: #E8F0FE;\n",
              "      --fill-color: #1967D2;\n",
              "      --hover-bg-color: #E2EBFA;\n",
              "      --hover-fill-color: #174EA6;\n",
              "      --disabled-fill-color: #AAA;\n",
              "      --disabled-bg-color: #DDD;\n",
              "  }\n",
              "\n",
              "  [theme=dark] .colab-df-quickchart {\n",
              "      --bg-color: #3B4455;\n",
              "      --fill-color: #D2E3FC;\n",
              "      --hover-bg-color: #434B5C;\n",
              "      --hover-fill-color: #FFFFFF;\n",
              "      --disabled-bg-color: #3B4455;\n",
              "      --disabled-fill-color: #666;\n",
              "  }\n",
              "\n",
              "  .colab-df-quickchart {\n",
              "    background-color: var(--bg-color);\n",
              "    border: none;\n",
              "    border-radius: 50%;\n",
              "    cursor: pointer;\n",
              "    display: none;\n",
              "    fill: var(--fill-color);\n",
              "    height: 32px;\n",
              "    padding: 0;\n",
              "    width: 32px;\n",
              "  }\n",
              "\n",
              "  .colab-df-quickchart:hover {\n",
              "    background-color: var(--hover-bg-color);\n",
              "    box-shadow: 0 1px 2px rgba(60, 64, 67, 0.3), 0 1px 3px 1px rgba(60, 64, 67, 0.15);\n",
              "    fill: var(--button-hover-fill-color);\n",
              "  }\n",
              "\n",
              "  .colab-df-quickchart-complete:disabled,\n",
              "  .colab-df-quickchart-complete:disabled:hover {\n",
              "    background-color: var(--disabled-bg-color);\n",
              "    fill: var(--disabled-fill-color);\n",
              "    box-shadow: none;\n",
              "  }\n",
              "\n",
              "  .colab-df-spinner {\n",
              "    border: 2px solid var(--fill-color);\n",
              "    border-color: transparent;\n",
              "    border-bottom-color: var(--fill-color);\n",
              "    animation:\n",
              "      spin 1s steps(1) infinite;\n",
              "  }\n",
              "\n",
              "  @keyframes spin {\n",
              "    0% {\n",
              "      border-color: transparent;\n",
              "      border-bottom-color: var(--fill-color);\n",
              "      border-left-color: var(--fill-color);\n",
              "    }\n",
              "    20% {\n",
              "      border-color: transparent;\n",
              "      border-left-color: var(--fill-color);\n",
              "      border-top-color: var(--fill-color);\n",
              "    }\n",
              "    30% {\n",
              "      border-color: transparent;\n",
              "      border-left-color: var(--fill-color);\n",
              "      border-top-color: var(--fill-color);\n",
              "      border-right-color: var(--fill-color);\n",
              "    }\n",
              "    40% {\n",
              "      border-color: transparent;\n",
              "      border-right-color: var(--fill-color);\n",
              "      border-top-color: var(--fill-color);\n",
              "    }\n",
              "    60% {\n",
              "      border-color: transparent;\n",
              "      border-right-color: var(--fill-color);\n",
              "    }\n",
              "    80% {\n",
              "      border-color: transparent;\n",
              "      border-right-color: var(--fill-color);\n",
              "      border-bottom-color: var(--fill-color);\n",
              "    }\n",
              "    90% {\n",
              "      border-color: transparent;\n",
              "      border-bottom-color: var(--fill-color);\n",
              "    }\n",
              "  }\n",
              "</style>\n",
              "\n",
              "  <script>\n",
              "    async function quickchart(key) {\n",
              "      const quickchartButtonEl =\n",
              "        document.querySelector('#' + key + ' button');\n",
              "      quickchartButtonEl.disabled = true;  // To prevent multiple clicks.\n",
              "      quickchartButtonEl.classList.add('colab-df-spinner');\n",
              "      try {\n",
              "        const charts = await google.colab.kernel.invokeFunction(\n",
              "            'suggestCharts', [key], {});\n",
              "      } catch (error) {\n",
              "        console.error('Error during call to suggestCharts:', error);\n",
              "      }\n",
              "      quickchartButtonEl.classList.remove('colab-df-spinner');\n",
              "      quickchartButtonEl.classList.add('colab-df-quickchart-complete');\n",
              "    }\n",
              "    (() => {\n",
              "      let quickchartButtonEl =\n",
              "        document.querySelector('#df-21d3d498-cfbd-48e4-880a-30e1d73fbc2c button');\n",
              "      quickchartButtonEl.style.display =\n",
              "        google.colab.kernel.accessAllowed ? 'block' : 'none';\n",
              "    })();\n",
              "  </script>\n",
              "</div>\n",
              "    </div>\n",
              "  </div>\n"
            ],
            "application/vnd.google.colaboratory.intrinsic+json": {
              "type": "dataframe",
              "summary": "{\n  \"name\": \"res2df(result)\",\n  \"rows\": 3,\n  \"fields\": [\n    {\n      \"column\": \"var\",\n      \"properties\": {\n        \"dtype\": \"string\",\n        \"num_unique_values\": 3,\n        \"samples\": [\n          \"\\u0436\\u0443\\u043a\",\n          \"\\u0436\\u0443\\u043a\\u043e\\u043c\",\n          \"\\u0436\\u0443\\u043a\\u0430\\u043c\"\n        ],\n        \"semantic_type\": \"\",\n        \"description\": \"\"\n      }\n    },\n    {\n      \"column\": \"Similarity\",\n      \"properties\": {\n        \"dtype\": \"number\",\n        \"std\": 0.028867513459481315,\n        \"min\": 0.75,\n        \"max\": 0.8,\n        \"num_unique_values\": 2,\n        \"samples\": [\n          0.8,\n          0.75\n        ],\n        \"semantic_type\": \"\",\n        \"description\": \"\"\n      }\n    },\n    {\n      \"column\": \"probability\",\n      \"properties\": {\n        \"dtype\": \"number\",\n        \"std\": 1.2711467811965453e-05,\n        \"min\": 1.939759225446382e-07,\n        \"max\": 2.2307231092633397e-05,\n        \"num_unique_values\": 3,\n        \"samples\": [\n          2.2307231092633397e-05,\n          3.879518450892764e-07\n        ],\n        \"semantic_type\": \"\",\n        \"description\": \"\"\n      }\n    },\n    {\n      \"column\": \"combined_probab\",\n      \"properties\": {\n        \"dtype\": \"number\",\n        \"std\": 9.525239967547772e-06,\n        \"min\": 1.5518073803571059e-07,\n        \"max\": 1.673042331947505e-05,\n        \"num_unique_values\": 3,\n        \"samples\": [\n          1.673042331947505e-05,\n          3.1036147607142117e-07\n        ],\n        \"semantic_type\": \"\",\n        \"description\": \"\"\n      }\n    }\n  ]\n}"
            }
          },
          "metadata": {},
          "execution_count": 199
        }
      ],
      "source": [
        "res2df(result)"
      ]
    },
    {
      "cell_type": "markdown",
      "metadata": {
        "id": "gXDV80PggGcW"
      },
      "source": [
        "2. Symspell (7 баллов)\n",
        "# ***Реализуйте алгоритм Symspell. Он похож на алгоритм Норвига, но проще и быстрее. Он основан только на одной операции - удалении символа. Описание алгоритма по шагам:***\n",
        "\n",
        "\n",
        "\n",
        "\n",
        "\n"
      ]
    },
    {
      "cell_type": "markdown",
      "metadata": {
        "id": "TdhIZz6ggMSi"
      },
      "source": [
        "Составляется словарь правильных слов"
      ]
    },
    {
      "cell_type": "code",
      "source": [
        "def P1(lst, N=N):\n",
        "\n",
        "    probab_lst = []\n",
        "    for word in lst:\n",
        "      probab_lst.append(vocab[word] / N)\n",
        "\n",
        "    return probab_lst"
      ],
      "metadata": {
        "id": "kz55T2gJO0jv"
      },
      "execution_count": 200,
      "outputs": []
    },
    {
      "cell_type": "markdown",
      "source": [
        "Составляется словарь правильных слов"
      ],
      "metadata": {
        "id": "rALKT2ZpoOtW"
      }
    },
    {
      "cell_type": "code",
      "execution_count": 201,
      "metadata": {
        "id": "wie4dzgchZP6"
      },
      "outputs": [],
      "source": [
        "\n",
        "true = open('/content/correct_sents.txt', encoding='utf8').read().splitlines()"
      ]
    },
    {
      "cell_type": "code",
      "execution_count": 202,
      "metadata": {
        "id": "koVjz-xwhvgg"
      },
      "outputs": [],
      "source": [
        "vocab_true = re.findall('\\w+', corpus.lower())"
      ]
    },
    {
      "cell_type": "markdown",
      "source": [
        "На основе словаря правильных слов составляется словарь удалений - для каждого правильного слова создаются все варианты удалений и создается словарь, где ключ - слово с удалением, а значение - правильное слово (!)"
      ],
      "metadata": {
        "id": "nobITQF5oYRI"
      }
    },
    {
      "cell_type": "code",
      "execution_count": 204,
      "metadata": {
        "id": "TBTAdtYBiFfJ"
      },
      "outputs": [],
      "source": [
        "def delete_char(word):\n",
        "  '''функция удаляет 1 букву в слове путем замены ее на пустое значение,\n",
        "  проходясь циклом по всему слову'''\n",
        "  if len(word) ==1 or  word.isdigit():\n",
        "    return []\n",
        "  else:\n",
        "    return list(set([word.replace(i, '', 1) for i in word]))\n",
        "\n",
        "# создаем словарь: правильное значение, слова с пропусками\n",
        "dic ={}\n",
        "\n",
        "for word in vocab_true:\n",
        "  for word_with_mis in delete_char(word):\n",
        "\n",
        "\n",
        "    dic[word_with_mis] = [word, P1([word])[0]]\n"
      ]
    },
    {
      "cell_type": "markdown",
      "source": [
        "Для выбора исправления для слова с опечаткой генерируются все варианты удаления, из них выбираются те, что есть в словаре удалений, построенного на шаге 2. Слово с опечаткой заменяется на правильное слово, соответствующее варианту удаления"
      ],
      "metadata": {
        "id": "Xb48afGgolyx"
      }
    },
    {
      "cell_type": "code",
      "source": [
        "def create_all_var(error_word):\n",
        "  all_var = delete_char(error_word)\n",
        "  return [word for word in all_var if word in dic.keys()]"
      ],
      "metadata": {
        "id": "WgbPzdx58oqa"
      },
      "execution_count": 205,
      "outputs": []
    },
    {
      "cell_type": "markdown",
      "source": [
        "Если в словаре удалений есть несколько вариантов, то выбирается удаление, которому соответствует наиболее вероятное правильное слово"
      ],
      "metadata": {
        "id": "dd81rcGioqlz"
      }
    },
    {
      "cell_type": "code",
      "source": [
        "def best_choice(error_word):\n",
        "  try:\n",
        "    lst = create_all_var(error_word)\n",
        "\n",
        "    true_var_lst = []\n",
        "\n",
        "    for i in lst:\n",
        "      true_var_lst.append(dic[i][0])\n",
        "\n",
        "    true_var_lst = list(set(true_var_lst))\n",
        "\n",
        "    possible = {}\n",
        "\n",
        "    for i in true_var_lst:\n",
        "            possible[i] = dic[i][1]  # Вероятность, которая сейчас является числом\n",
        "\n",
        "        # Сортируем по вероятности\n",
        "    sorted_possible = sorted(possible.items(), key=lambda item: item[1], reverse=True)\n",
        "\n",
        "    return sorted_possible  # Возвращаем отсортированные возможные исправления\n",
        "  except Exception as e:\n",
        "        return error_word\n",
        "\n"
      ],
      "metadata": {
        "id": "Rhg-VlB69Qsc"
      },
      "execution_count": 206,
      "outputs": []
    },
    {
      "cell_type": "code",
      "execution_count": 207,
      "metadata": {
        "id": "RO_LzfUrw96o",
        "colab": {
          "base_uri": "https://localhost:8080/"
        },
        "outputId": "3fc77e4d-a885-402f-f0ee-0d5215ff400c"
      },
      "outputs": [
        {
          "output_type": "stream",
          "name": "stdout",
          "text": [
            "[('дом', 9.504820204687272e-05), ('пор', 5.256747500959696e-05), ('гдр', 1.939759225446382e-07)]\n"
          ]
        }
      ],
      "source": [
        "print(best_choice('дор'))"
      ]
    },
    {
      "cell_type": "code",
      "source": [
        "def predict_mistaken(word, vocab):\n",
        "    return 0 if word in vocab else 1"
      ],
      "metadata": {
        "id": "3DFo4HMYe6aC"
      },
      "execution_count": 208,
      "outputs": []
    },
    {
      "cell_type": "markdown",
      "source": [
        "Оцените качество полученного алгоритма теми же тремя метриками."
      ],
      "metadata": {
        "id": "c9Yqgn0Aoyrg"
      }
    },
    {
      "cell_type": "code",
      "execution_count": 209,
      "metadata": {
        "id": "aL7IiIOOh1bT"
      },
      "outputs": [],
      "source": [
        "bad = open('sents_with_mistakes.txt', encoding='utf8').read().splitlines()\n",
        "true = open('correct_sents.txt', encoding='utf8').read().splitlines()\n",
        "def align_words(sent_1, sent_2):\n",
        "    tokens_1 = sent_1.lower().split()\n",
        "    tokens_2 = sent_2.lower().split()\n",
        "\n",
        "    tokens_1 = [token.strip(punctuation) for token in tokens_1]\n",
        "    tokens_2 = [token.strip(punctuation) for token in tokens_2]\n",
        "\n",
        "    tokens_1 = [token for token in tokens_1 if token]\n",
        "    tokens_2 = [token for token in tokens_2 if token]\n",
        "\n",
        "    assert len(tokens_1) == len(tokens_2)\n",
        "\n",
        "    return list(zip(tokens_1, tokens_2))"
      ]
    },
    {
      "cell_type": "code",
      "execution_count": 215,
      "metadata": {
        "colab": {
          "base_uri": "https://localhost:8080/"
        },
        "id": "7PNAgpP_hGTp",
        "outputId": "507dee48-879d-4abc-bdc9-997b542a527d"
      },
      "outputs": [
        {
          "output_type": "stream",
          "name": "stderr",
          "text": [
            "100%|██████████| 915/915 [05:24<00:00,  2.82it/s]\n"
          ]
        }
      ],
      "source": [
        "mistakes = []\n",
        "total_mistaken = 0\n",
        "mistaken_fixed = 0\n",
        "\n",
        "total_correct = 0\n",
        "correct_broken = 0\n",
        "\n",
        "total = 0\n",
        "correct = 0\n",
        "\n",
        "cashed = {}\n",
        "for i in tqdm(range(len(true))):\n",
        "    word_pairs = align_words(true[i], bad[i])\n",
        "    for pair in word_pairs:\n",
        "        if predict_mistaken(pair[1], vocab_true):\n",
        "            pred_choices = best_choice(pair[1])\n",
        "            if pred_choices:\n",
        "                pred = pred_choices[0][0]\n",
        "            else:\n",
        "                pred = pair[1]\n",
        "            cashed[pair[1]] = pred\n",
        "        else:\n",
        "            pred = pair[1]\n",
        "\n",
        "        if pred == pair[0]:\n",
        "            correct += 1\n",
        "        else:\n",
        "            mistakes.append((pair[0], pair[1], pred))\n",
        "        total += 1\n",
        "\n",
        "        if pair[0] == pair[1]:\n",
        "            total_correct += 1\n",
        "            if pair[0] != pred:\n",
        "                correct_broken += 1\n",
        "        else:\n",
        "            total_mistaken += 1\n",
        "            if pair[0] == pred:\n",
        "                mistaken_fixed += 1\n"
      ]
    },
    {
      "cell_type": "code",
      "execution_count": 216,
      "metadata": {
        "id": "KKZVczj1hMRm",
        "colab": {
          "base_uri": "https://localhost:8080/"
        },
        "outputId": "f049d323-5a87-40c4-9a25-4450bf9b4fdd"
      },
      "outputs": [
        {
          "output_type": "stream",
          "name": "stdout",
          "text": [
            "0.8430215107553777\n",
            "0.05124223602484472\n",
            "0.039852991845641436\n"
          ]
        }
      ],
      "source": [
        "print(correct/total)\n",
        "print(mistaken_fixed/total_mistaken)\n",
        "print(correct_broken/total_correct)"
      ]
    },
    {
      "cell_type": "code",
      "source": [],
      "metadata": {
        "id": "a_uVoYkZn2go"
      },
      "execution_count": null,
      "outputs": []
    }
  ],
  "metadata": {
    "colab": {
      "provenance": [],
      "authorship_tag": "ABX9TyO/c6XPztTFrz1TPrfOK+K2"
    },
    "kernelspec": {
      "display_name": "Python 3",
      "name": "python3"
    },
    "language_info": {
      "name": "python"
    }
  },
  "nbformat": 4,
  "nbformat_minor": 0
}