{
  "nbformat": 4,
  "nbformat_minor": 0,
  "metadata": {
    "colab": {
      "provenance": [],
      "authorship_tag": "ABX9TyPREOE8a2rQBGGKbxbxRIQ7",
      "include_colab_link": true
    },
    "kernelspec": {
      "name": "python3",
      "display_name": "Python 3"
    },
    "language_info": {
      "name": "python"
    },
    "widgets": {
      "application/vnd.jupyter.widget-state+json": {
        "5c4947ce579c47ad80fe9a3895beb838": {
          "model_module": "@jupyter-widgets/controls",
          "model_name": "HBoxModel",
          "model_module_version": "1.5.0",
          "state": {
            "_dom_classes": [],
            "_model_module": "@jupyter-widgets/controls",
            "_model_module_version": "1.5.0",
            "_model_name": "HBoxModel",
            "_view_count": null,
            "_view_module": "@jupyter-widgets/controls",
            "_view_module_version": "1.5.0",
            "_view_name": "HBoxView",
            "box_style": "",
            "children": [
              "IPY_MODEL_7b7f912cf4db42a7a27d8263f2e4b121",
              "IPY_MODEL_7661dcb32406449ca1805eae1443316f",
              "IPY_MODEL_4ffdb4ce83ce4566872dbf6454ac5188"
            ],
            "layout": "IPY_MODEL_bc9e68181c3e440f934d31ff15cfc36b"
          }
        },
        "7b7f912cf4db42a7a27d8263f2e4b121": {
          "model_module": "@jupyter-widgets/controls",
          "model_name": "HTMLModel",
          "model_module_version": "1.5.0",
          "state": {
            "_dom_classes": [],
            "_model_module": "@jupyter-widgets/controls",
            "_model_module_version": "1.5.0",
            "_model_name": "HTMLModel",
            "_view_count": null,
            "_view_module": "@jupyter-widgets/controls",
            "_view_module_version": "1.5.0",
            "_view_name": "HTMLView",
            "description": "",
            "description_tooltip": null,
            "layout": "IPY_MODEL_c55b8723fc294d1ea31e9a0c5016ed2b",
            "placeholder": "​",
            "style": "IPY_MODEL_7476cd3e73634d93945aa5f2c2dc8867",
            "value": "100%"
          }
        },
        "7661dcb32406449ca1805eae1443316f": {
          "model_module": "@jupyter-widgets/controls",
          "model_name": "FloatProgressModel",
          "model_module_version": "1.5.0",
          "state": {
            "_dom_classes": [],
            "_model_module": "@jupyter-widgets/controls",
            "_model_module_version": "1.5.0",
            "_model_name": "FloatProgressModel",
            "_view_count": null,
            "_view_module": "@jupyter-widgets/controls",
            "_view_module_version": "1.5.0",
            "_view_name": "ProgressView",
            "bar_style": "success",
            "description": "",
            "description_tooltip": null,
            "layout": "IPY_MODEL_c4b77c94fb634485b3a51e8dc3d5c07d",
            "max": 750,
            "min": 0,
            "orientation": "horizontal",
            "style": "IPY_MODEL_ec89f2ce35694869be020632fa0b1687",
            "value": 750
          }
        },
        "4ffdb4ce83ce4566872dbf6454ac5188": {
          "model_module": "@jupyter-widgets/controls",
          "model_name": "HTMLModel",
          "model_module_version": "1.5.0",
          "state": {
            "_dom_classes": [],
            "_model_module": "@jupyter-widgets/controls",
            "_model_module_version": "1.5.0",
            "_model_name": "HTMLModel",
            "_view_count": null,
            "_view_module": "@jupyter-widgets/controls",
            "_view_module_version": "1.5.0",
            "_view_name": "HTMLView",
            "description": "",
            "description_tooltip": null,
            "layout": "IPY_MODEL_2d12c76a37ee4ce281f0dd855c656b58",
            "placeholder": "​",
            "style": "IPY_MODEL_3caf04c0a6cb4666b31a3163357ebbdc",
            "value": " 750/750 [00:27&lt;00:00, 36.12it/s]"
          }
        },
        "bc9e68181c3e440f934d31ff15cfc36b": {
          "model_module": "@jupyter-widgets/base",
          "model_name": "LayoutModel",
          "model_module_version": "1.2.0",
          "state": {
            "_model_module": "@jupyter-widgets/base",
            "_model_module_version": "1.2.0",
            "_model_name": "LayoutModel",
            "_view_count": null,
            "_view_module": "@jupyter-widgets/base",
            "_view_module_version": "1.2.0",
            "_view_name": "LayoutView",
            "align_content": null,
            "align_items": null,
            "align_self": null,
            "border": null,
            "bottom": null,
            "display": null,
            "flex": null,
            "flex_flow": null,
            "grid_area": null,
            "grid_auto_columns": null,
            "grid_auto_flow": null,
            "grid_auto_rows": null,
            "grid_column": null,
            "grid_gap": null,
            "grid_row": null,
            "grid_template_areas": null,
            "grid_template_columns": null,
            "grid_template_rows": null,
            "height": null,
            "justify_content": null,
            "justify_items": null,
            "left": null,
            "margin": null,
            "max_height": null,
            "max_width": null,
            "min_height": null,
            "min_width": null,
            "object_fit": null,
            "object_position": null,
            "order": null,
            "overflow": null,
            "overflow_x": null,
            "overflow_y": null,
            "padding": null,
            "right": null,
            "top": null,
            "visibility": null,
            "width": null
          }
        },
        "c55b8723fc294d1ea31e9a0c5016ed2b": {
          "model_module": "@jupyter-widgets/base",
          "model_name": "LayoutModel",
          "model_module_version": "1.2.0",
          "state": {
            "_model_module": "@jupyter-widgets/base",
            "_model_module_version": "1.2.0",
            "_model_name": "LayoutModel",
            "_view_count": null,
            "_view_module": "@jupyter-widgets/base",
            "_view_module_version": "1.2.0",
            "_view_name": "LayoutView",
            "align_content": null,
            "align_items": null,
            "align_self": null,
            "border": null,
            "bottom": null,
            "display": null,
            "flex": null,
            "flex_flow": null,
            "grid_area": null,
            "grid_auto_columns": null,
            "grid_auto_flow": null,
            "grid_auto_rows": null,
            "grid_column": null,
            "grid_gap": null,
            "grid_row": null,
            "grid_template_areas": null,
            "grid_template_columns": null,
            "grid_template_rows": null,
            "height": null,
            "justify_content": null,
            "justify_items": null,
            "left": null,
            "margin": null,
            "max_height": null,
            "max_width": null,
            "min_height": null,
            "min_width": null,
            "object_fit": null,
            "object_position": null,
            "order": null,
            "overflow": null,
            "overflow_x": null,
            "overflow_y": null,
            "padding": null,
            "right": null,
            "top": null,
            "visibility": null,
            "width": null
          }
        },
        "7476cd3e73634d93945aa5f2c2dc8867": {
          "model_module": "@jupyter-widgets/controls",
          "model_name": "DescriptionStyleModel",
          "model_module_version": "1.5.0",
          "state": {
            "_model_module": "@jupyter-widgets/controls",
            "_model_module_version": "1.5.0",
            "_model_name": "DescriptionStyleModel",
            "_view_count": null,
            "_view_module": "@jupyter-widgets/base",
            "_view_module_version": "1.2.0",
            "_view_name": "StyleView",
            "description_width": ""
          }
        },
        "c4b77c94fb634485b3a51e8dc3d5c07d": {
          "model_module": "@jupyter-widgets/base",
          "model_name": "LayoutModel",
          "model_module_version": "1.2.0",
          "state": {
            "_model_module": "@jupyter-widgets/base",
            "_model_module_version": "1.2.0",
            "_model_name": "LayoutModel",
            "_view_count": null,
            "_view_module": "@jupyter-widgets/base",
            "_view_module_version": "1.2.0",
            "_view_name": "LayoutView",
            "align_content": null,
            "align_items": null,
            "align_self": null,
            "border": null,
            "bottom": null,
            "display": null,
            "flex": null,
            "flex_flow": null,
            "grid_area": null,
            "grid_auto_columns": null,
            "grid_auto_flow": null,
            "grid_auto_rows": null,
            "grid_column": null,
            "grid_gap": null,
            "grid_row": null,
            "grid_template_areas": null,
            "grid_template_columns": null,
            "grid_template_rows": null,
            "height": null,
            "justify_content": null,
            "justify_items": null,
            "left": null,
            "margin": null,
            "max_height": null,
            "max_width": null,
            "min_height": null,
            "min_width": null,
            "object_fit": null,
            "object_position": null,
            "order": null,
            "overflow": null,
            "overflow_x": null,
            "overflow_y": null,
            "padding": null,
            "right": null,
            "top": null,
            "visibility": null,
            "width": null
          }
        },
        "ec89f2ce35694869be020632fa0b1687": {
          "model_module": "@jupyter-widgets/controls",
          "model_name": "ProgressStyleModel",
          "model_module_version": "1.5.0",
          "state": {
            "_model_module": "@jupyter-widgets/controls",
            "_model_module_version": "1.5.0",
            "_model_name": "ProgressStyleModel",
            "_view_count": null,
            "_view_module": "@jupyter-widgets/base",
            "_view_module_version": "1.2.0",
            "_view_name": "StyleView",
            "bar_color": null,
            "description_width": ""
          }
        },
        "2d12c76a37ee4ce281f0dd855c656b58": {
          "model_module": "@jupyter-widgets/base",
          "model_name": "LayoutModel",
          "model_module_version": "1.2.0",
          "state": {
            "_model_module": "@jupyter-widgets/base",
            "_model_module_version": "1.2.0",
            "_model_name": "LayoutModel",
            "_view_count": null,
            "_view_module": "@jupyter-widgets/base",
            "_view_module_version": "1.2.0",
            "_view_name": "LayoutView",
            "align_content": null,
            "align_items": null,
            "align_self": null,
            "border": null,
            "bottom": null,
            "display": null,
            "flex": null,
            "flex_flow": null,
            "grid_area": null,
            "grid_auto_columns": null,
            "grid_auto_flow": null,
            "grid_auto_rows": null,
            "grid_column": null,
            "grid_gap": null,
            "grid_row": null,
            "grid_template_areas": null,
            "grid_template_columns": null,
            "grid_template_rows": null,
            "height": null,
            "justify_content": null,
            "justify_items": null,
            "left": null,
            "margin": null,
            "max_height": null,
            "max_width": null,
            "min_height": null,
            "min_width": null,
            "object_fit": null,
            "object_position": null,
            "order": null,
            "overflow": null,
            "overflow_x": null,
            "overflow_y": null,
            "padding": null,
            "right": null,
            "top": null,
            "visibility": null,
            "width": null
          }
        },
        "3caf04c0a6cb4666b31a3163357ebbdc": {
          "model_module": "@jupyter-widgets/controls",
          "model_name": "DescriptionStyleModel",
          "model_module_version": "1.5.0",
          "state": {
            "_model_module": "@jupyter-widgets/controls",
            "_model_module_version": "1.5.0",
            "_model_name": "DescriptionStyleModel",
            "_view_count": null,
            "_view_module": "@jupyter-widgets/base",
            "_view_module_version": "1.2.0",
            "_view_name": "StyleView",
            "description_width": ""
          }
        },
        "16b3a132ca6a47f7b52098d5ec28ee5e": {
          "model_module": "@jupyter-widgets/controls",
          "model_name": "HBoxModel",
          "model_module_version": "1.5.0",
          "state": {
            "_dom_classes": [],
            "_model_module": "@jupyter-widgets/controls",
            "_model_module_version": "1.5.0",
            "_model_name": "HBoxModel",
            "_view_count": null,
            "_view_module": "@jupyter-widgets/controls",
            "_view_module_version": "1.5.0",
            "_view_name": "HBoxView",
            "box_style": "",
            "children": [
              "IPY_MODEL_1ce7481e2e344fe3bf381633cc47d9c9",
              "IPY_MODEL_7faaef2b0db645959e9e24db223b6325",
              "IPY_MODEL_c8e957fa0b9544d3b50b06a8bb1318d6"
            ],
            "layout": "IPY_MODEL_dd97fa464d23467e8e13d837a8fff09f"
          }
        },
        "1ce7481e2e344fe3bf381633cc47d9c9": {
          "model_module": "@jupyter-widgets/controls",
          "model_name": "HTMLModel",
          "model_module_version": "1.5.0",
          "state": {
            "_dom_classes": [],
            "_model_module": "@jupyter-widgets/controls",
            "_model_module_version": "1.5.0",
            "_model_name": "HTMLModel",
            "_view_count": null,
            "_view_module": "@jupyter-widgets/controls",
            "_view_module_version": "1.5.0",
            "_view_name": "HTMLView",
            "description": "",
            "description_tooltip": null,
            "layout": "IPY_MODEL_c8377223ea1248618477490dda44aea7",
            "placeholder": "​",
            "style": "IPY_MODEL_8652d657a8d34a88ac1176b646b3ed83",
            "value": ""
          }
        },
        "7faaef2b0db645959e9e24db223b6325": {
          "model_module": "@jupyter-widgets/controls",
          "model_name": "FloatProgressModel",
          "model_module_version": "1.5.0",
          "state": {
            "_dom_classes": [],
            "_model_module": "@jupyter-widgets/controls",
            "_model_module_version": "1.5.0",
            "_model_name": "FloatProgressModel",
            "_view_count": null,
            "_view_module": "@jupyter-widgets/controls",
            "_view_module_version": "1.5.0",
            "_view_name": "ProgressView",
            "bar_style": "success",
            "description": "",
            "description_tooltip": null,
            "layout": "IPY_MODEL_a80318de2e3b4c1d878a9fa5fc05093b",
            "max": 1,
            "min": 0,
            "orientation": "horizontal",
            "style": "IPY_MODEL_d4fff0caf5aa4a4ebc67dcf1ec9ff37f",
            "value": 1
          }
        },
        "c8e957fa0b9544d3b50b06a8bb1318d6": {
          "model_module": "@jupyter-widgets/controls",
          "model_name": "HTMLModel",
          "model_module_version": "1.5.0",
          "state": {
            "_dom_classes": [],
            "_model_module": "@jupyter-widgets/controls",
            "_model_module_version": "1.5.0",
            "_model_name": "HTMLModel",
            "_view_count": null,
            "_view_module": "@jupyter-widgets/controls",
            "_view_module_version": "1.5.0",
            "_view_name": "HTMLView",
            "description": "",
            "description_tooltip": null,
            "layout": "IPY_MODEL_20518db3b09946ddb111b3590559ee5f",
            "placeholder": "​",
            "style": "IPY_MODEL_94b1a31041b34efa9ad6f782c2805f34",
            "value": " 750/? [00:00&lt;00:00, 28045.29it/s]"
          }
        },
        "dd97fa464d23467e8e13d837a8fff09f": {
          "model_module": "@jupyter-widgets/base",
          "model_name": "LayoutModel",
          "model_module_version": "1.2.0",
          "state": {
            "_model_module": "@jupyter-widgets/base",
            "_model_module_version": "1.2.0",
            "_model_name": "LayoutModel",
            "_view_count": null,
            "_view_module": "@jupyter-widgets/base",
            "_view_module_version": "1.2.0",
            "_view_name": "LayoutView",
            "align_content": null,
            "align_items": null,
            "align_self": null,
            "border": null,
            "bottom": null,
            "display": null,
            "flex": null,
            "flex_flow": null,
            "grid_area": null,
            "grid_auto_columns": null,
            "grid_auto_flow": null,
            "grid_auto_rows": null,
            "grid_column": null,
            "grid_gap": null,
            "grid_row": null,
            "grid_template_areas": null,
            "grid_template_columns": null,
            "grid_template_rows": null,
            "height": null,
            "justify_content": null,
            "justify_items": null,
            "left": null,
            "margin": null,
            "max_height": null,
            "max_width": null,
            "min_height": null,
            "min_width": null,
            "object_fit": null,
            "object_position": null,
            "order": null,
            "overflow": null,
            "overflow_x": null,
            "overflow_y": null,
            "padding": null,
            "right": null,
            "top": null,
            "visibility": null,
            "width": null
          }
        },
        "c8377223ea1248618477490dda44aea7": {
          "model_module": "@jupyter-widgets/base",
          "model_name": "LayoutModel",
          "model_module_version": "1.2.0",
          "state": {
            "_model_module": "@jupyter-widgets/base",
            "_model_module_version": "1.2.0",
            "_model_name": "LayoutModel",
            "_view_count": null,
            "_view_module": "@jupyter-widgets/base",
            "_view_module_version": "1.2.0",
            "_view_name": "LayoutView",
            "align_content": null,
            "align_items": null,
            "align_self": null,
            "border": null,
            "bottom": null,
            "display": null,
            "flex": null,
            "flex_flow": null,
            "grid_area": null,
            "grid_auto_columns": null,
            "grid_auto_flow": null,
            "grid_auto_rows": null,
            "grid_column": null,
            "grid_gap": null,
            "grid_row": null,
            "grid_template_areas": null,
            "grid_template_columns": null,
            "grid_template_rows": null,
            "height": null,
            "justify_content": null,
            "justify_items": null,
            "left": null,
            "margin": null,
            "max_height": null,
            "max_width": null,
            "min_height": null,
            "min_width": null,
            "object_fit": null,
            "object_position": null,
            "order": null,
            "overflow": null,
            "overflow_x": null,
            "overflow_y": null,
            "padding": null,
            "right": null,
            "top": null,
            "visibility": null,
            "width": null
          }
        },
        "8652d657a8d34a88ac1176b646b3ed83": {
          "model_module": "@jupyter-widgets/controls",
          "model_name": "DescriptionStyleModel",
          "model_module_version": "1.5.0",
          "state": {
            "_model_module": "@jupyter-widgets/controls",
            "_model_module_version": "1.5.0",
            "_model_name": "DescriptionStyleModel",
            "_view_count": null,
            "_view_module": "@jupyter-widgets/base",
            "_view_module_version": "1.2.0",
            "_view_name": "StyleView",
            "description_width": ""
          }
        },
        "a80318de2e3b4c1d878a9fa5fc05093b": {
          "model_module": "@jupyter-widgets/base",
          "model_name": "LayoutModel",
          "model_module_version": "1.2.0",
          "state": {
            "_model_module": "@jupyter-widgets/base",
            "_model_module_version": "1.2.0",
            "_model_name": "LayoutModel",
            "_view_count": null,
            "_view_module": "@jupyter-widgets/base",
            "_view_module_version": "1.2.0",
            "_view_name": "LayoutView",
            "align_content": null,
            "align_items": null,
            "align_self": null,
            "border": null,
            "bottom": null,
            "display": null,
            "flex": null,
            "flex_flow": null,
            "grid_area": null,
            "grid_auto_columns": null,
            "grid_auto_flow": null,
            "grid_auto_rows": null,
            "grid_column": null,
            "grid_gap": null,
            "grid_row": null,
            "grid_template_areas": null,
            "grid_template_columns": null,
            "grid_template_rows": null,
            "height": null,
            "justify_content": null,
            "justify_items": null,
            "left": null,
            "margin": null,
            "max_height": null,
            "max_width": null,
            "min_height": null,
            "min_width": null,
            "object_fit": null,
            "object_position": null,
            "order": null,
            "overflow": null,
            "overflow_x": null,
            "overflow_y": null,
            "padding": null,
            "right": null,
            "top": null,
            "visibility": null,
            "width": "20px"
          }
        },
        "d4fff0caf5aa4a4ebc67dcf1ec9ff37f": {
          "model_module": "@jupyter-widgets/controls",
          "model_name": "ProgressStyleModel",
          "model_module_version": "1.5.0",
          "state": {
            "_model_module": "@jupyter-widgets/controls",
            "_model_module_version": "1.5.0",
            "_model_name": "ProgressStyleModel",
            "_view_count": null,
            "_view_module": "@jupyter-widgets/base",
            "_view_module_version": "1.2.0",
            "_view_name": "StyleView",
            "bar_color": null,
            "description_width": ""
          }
        },
        "20518db3b09946ddb111b3590559ee5f": {
          "model_module": "@jupyter-widgets/base",
          "model_name": "LayoutModel",
          "model_module_version": "1.2.0",
          "state": {
            "_model_module": "@jupyter-widgets/base",
            "_model_module_version": "1.2.0",
            "_model_name": "LayoutModel",
            "_view_count": null,
            "_view_module": "@jupyter-widgets/base",
            "_view_module_version": "1.2.0",
            "_view_name": "LayoutView",
            "align_content": null,
            "align_items": null,
            "align_self": null,
            "border": null,
            "bottom": null,
            "display": null,
            "flex": null,
            "flex_flow": null,
            "grid_area": null,
            "grid_auto_columns": null,
            "grid_auto_flow": null,
            "grid_auto_rows": null,
            "grid_column": null,
            "grid_gap": null,
            "grid_row": null,
            "grid_template_areas": null,
            "grid_template_columns": null,
            "grid_template_rows": null,
            "height": null,
            "justify_content": null,
            "justify_items": null,
            "left": null,
            "margin": null,
            "max_height": null,
            "max_width": null,
            "min_height": null,
            "min_width": null,
            "object_fit": null,
            "object_position": null,
            "order": null,
            "overflow": null,
            "overflow_x": null,
            "overflow_y": null,
            "padding": null,
            "right": null,
            "top": null,
            "visibility": null,
            "width": null
          }
        },
        "94b1a31041b34efa9ad6f782c2805f34": {
          "model_module": "@jupyter-widgets/controls",
          "model_name": "DescriptionStyleModel",
          "model_module_version": "1.5.0",
          "state": {
            "_model_module": "@jupyter-widgets/controls",
            "_model_module_version": "1.5.0",
            "_model_name": "DescriptionStyleModel",
            "_view_count": null,
            "_view_module": "@jupyter-widgets/base",
            "_view_module_version": "1.2.0",
            "_view_name": "StyleView",
            "description_width": ""
          }
        }
      }
    }
  },
  "cells": [
    {
      "cell_type": "markdown",
      "metadata": {
        "id": "view-in-github",
        "colab_type": "text"
      },
      "source": [
        "<a href=\"https://colab.research.google.com/github/kekys778/Act-Probll-compLing-2024-Perfilev/blob/main/compling_hw_7_11_24.ipynb\" target=\"_parent\"><img src=\"https://colab.research.google.com/assets/colab-badge.svg\" alt=\"Open In Colab\"/></a>"
      ]
    },
    {
      "cell_type": "code",
      "source": [
        "!pip install razdel\n"
      ],
      "metadata": {
        "colab": {
          "base_uri": "https://localhost:8080/"
        },
        "id": "LeWQOGkbgTOG",
        "outputId": "7a253b9c-f9bf-4865-91dd-3533ee4eabb2"
      },
      "execution_count": 1,
      "outputs": [
        {
          "output_type": "stream",
          "name": "stdout",
          "text": [
            "Requirement already satisfied: razdel in /usr/local/lib/python3.10/dist-packages (0.5.0)\n"
          ]
        }
      ]
    },
    {
      "cell_type": "code",
      "source": [
        "!pip install pymystem3"
      ],
      "metadata": {
        "colab": {
          "base_uri": "https://localhost:8080/"
        },
        "id": "wJfMTYb-MYq5",
        "outputId": "890a1f6c-fa51-433a-e5e2-af4b220d56f1"
      },
      "execution_count": 2,
      "outputs": [
        {
          "output_type": "stream",
          "name": "stdout",
          "text": [
            "Requirement already satisfied: pymystem3 in /usr/local/lib/python3.10/dist-packages (0.2.0)\n",
            "Requirement already satisfied: requests in /usr/local/lib/python3.10/dist-packages (from pymystem3) (2.32.3)\n",
            "Requirement already satisfied: charset-normalizer<4,>=2 in /usr/local/lib/python3.10/dist-packages (from requests->pymystem3) (3.4.0)\n",
            "Requirement already satisfied: idna<4,>=2.5 in /usr/local/lib/python3.10/dist-packages (from requests->pymystem3) (3.10)\n",
            "Requirement already satisfied: urllib3<3,>=1.21.1 in /usr/local/lib/python3.10/dist-packages (from requests->pymystem3) (2.2.3)\n",
            "Requirement already satisfied: certifi>=2017.4.17 in /usr/local/lib/python3.10/dist-packages (from requests->pymystem3) (2024.8.30)\n"
          ]
        }
      ]
    },
    {
      "cell_type": "markdown",
      "source": [
        "# ***Задание 1 (2 балла)***\n",
        "\n",
        "> Найдите 1 любой способ сломать токенизацию на предложения функцией sentenize из библиотеки razdel. Придумайте (или найдите на каком-то корпусе) такое предложение (или несколько предложений), которое будет некорректно разобрано sentenize, но при этом будет грамматически корректным.\n",
        "\n",
        "\n",
        "# ***Ответ:***\n",
        "Токенизация ломается если предложение заканчивается на инициалы с точкой, но в таком порядке инициалы и фамилия редко применяются в ря, хотя и является порядок грамматически верным.\n"
      ],
      "metadata": {
        "id": "Jvi7q_cEg9eC"
      }
    },
    {
      "cell_type": "code",
      "source": [
        "from razdel import sentenize"
      ],
      "metadata": {
        "id": "UVj4oqBXgun4"
      },
      "execution_count": 3,
      "outputs": []
    },
    {
      "cell_type": "code",
      "source": [
        "text = '''Самым известным писталем, пожалуй, считается Толстой, Л.Н. Вторым по популярности автором в России считается Ф. М. Достоевский.\n",
        "'''\n",
        "preprocessed_text = list(sentenize(text))\n",
        "preprocessed_text"
      ],
      "metadata": {
        "colab": {
          "base_uri": "https://localhost:8080/"
        },
        "id": "jykqpJCxhy87",
        "outputId": "bb8d1042-4887-4960-d99e-b9abf8131d66"
      },
      "execution_count": 4,
      "outputs": [
        {
          "output_type": "execute_result",
          "data": {
            "text/plain": [
              "[Substring(0,\n",
              "           127,\n",
              "           'Самым известным писталем, пожалуй, считается Толстой, Л.Н. Вторым по популярности автором в России считается Ф. М. Достоевский.')]"
            ]
          },
          "metadata": {},
          "execution_count": 4
        }
      ]
    },
    {
      "cell_type": "code",
      "source": [],
      "metadata": {
        "id": "Wz_22M4miOfa"
      },
      "execution_count": 4,
      "outputs": []
    },
    {
      "cell_type": "markdown",
      "source": [
        "# ***2. Токенизация Mystem vs razdel.tokenize (2 балла)***\n",
        "Токенизируйте текст с помощью razdel и с помощью Mystem. Найдите различия в токенизациях. Что по вашему работает лучше на приведенном тексте?\n",
        "\n",
        "\n",
        "# ***ОТВЕТ***\n",
        "Мне кажется, токенайзер раздела работает хуже, так как не очищает текст от знаков препинания, числовых последовательностей, (а выделяет как отдельные токены). То есть токеницированный текст требует большей постобработки, нежели результат mystem, который можно получить изменяя показатель(можно и со всеми знаками)"
      ],
      "metadata": {
        "id": "70PHrs_7L0k2"
      }
    },
    {
      "cell_type": "code",
      "source": [
        "from razdel import tokenize as razdel_tokenize\n",
        "from pymystem3 import Mystem\n",
        "mystem = Mystem()"
      ],
      "metadata": {
        "id": "YOrGxuE9L_xb"
      },
      "execution_count": 5,
      "outputs": []
    },
    {
      "cell_type": "code",
      "source": [
        "text = \"\"\"\n",
        "Вторым и третьим открытыми белыми карликами стали Сириус B и Процион B. В 1844 году директор Кёнигсбергской обсерватории Фридрих Бессель, анализируя данные наблюдений, которые велись с 1755 года, обнаружил, что Сириус, ярчайшая звезда земного неба, и Процион периодически, хотя и весьма слабо, отклоняются от прямолинейной траектории движения по небесной сфере[5]. Бессель пришёл к выводу, что у каждой из них должен быть близкий спутник. Сообщение было встречено скептически, поскольку слабый спутник оставался ненаблюдаемым, а его масса должна была быть достаточно велика — сравнимой с массой Сириуса и Проциона, соответственно.\n",
        "\n",
        "В январе 1862 года Элвин Грэхэм Кларк, юстируя 18-дюймовый рефрактор, самый большой на то время телескоп в мире (Dearborn Telescope), впоследствии поставленный семейной фирмой Кларков в обсерваторию Чикагского университета, обнаружил в непосредственной близости от Сириуса тусклую звёздочку. Это был спутник Сириуса, Сириус B, предсказанный Бесселем[6]. А в 1896 году американский астроном Д. М. Шеберле открыл Процион B, подтвердив тем самым и второе предсказание Бесселя.\n",
        "\n",
        "В 1915 году американский астроном Уолтер Сидней Адамс измерил спектр Сириуса B. Из измерений следовало, что его температура не ниже, чем у Сириуса A (по современным данным, температура поверхности Сириуса B составляет 25 000 K, а Сириуса A — 10 000 К), что, с учётом его в 10 000 раз меньшей, чем у Сириуса A, светимости указывает на очень малый радиус и, соответственно, высокую плотность — 106 г/см3 (плотность Сириуса ~0,25 г/см3, плотность Солнца ~1,4 г/см3).\n",
        "\"\"\""
      ],
      "metadata": {
        "id": "q9Tjgu7PNWlm"
      },
      "execution_count": 6,
      "outputs": []
    },
    {
      "cell_type": "code",
      "source": [
        "\n",
        "razdel_words = list(razdel_tokenize(text))\n",
        "words = mystem.analyze(text)"
      ],
      "metadata": {
        "id": "MsFYX48uNgB-"
      },
      "execution_count": 7,
      "outputs": []
    },
    {
      "cell_type": "code",
      "source": [
        "razdel_words"
      ],
      "metadata": {
        "colab": {
          "base_uri": "https://localhost:8080/"
        },
        "id": "skxq3CulNvC6",
        "outputId": "e442139e-5784-4b31-c046-a1f88d4a3e53"
      },
      "execution_count": 8,
      "outputs": [
        {
          "output_type": "execute_result",
          "data": {
            "text/plain": [
              "[Substring(1, 7, 'Вторым'),\n",
              " Substring(8, 9, 'и'),\n",
              " Substring(10, 17, 'третьим'),\n",
              " Substring(18, 27, 'открытыми'),\n",
              " Substring(28, 34, 'белыми'),\n",
              " Substring(35, 44, 'карликами'),\n",
              " Substring(45, 50, 'стали'),\n",
              " Substring(51, 57, 'Сириус'),\n",
              " Substring(58, 59, 'B'),\n",
              " Substring(60, 61, 'и'),\n",
              " Substring(62, 69, 'Процион'),\n",
              " Substring(70, 71, 'B'),\n",
              " Substring(71, 72, '.'),\n",
              " Substring(73, 74, 'В'),\n",
              " Substring(75, 79, '1844'),\n",
              " Substring(80, 84, 'году'),\n",
              " Substring(85, 93, 'директор'),\n",
              " Substring(94, 108, 'Кёнигсбергской'),\n",
              " Substring(109, 121, 'обсерватории'),\n",
              " Substring(122, 129, 'Фридрих'),\n",
              " Substring(130, 137, 'Бессель'),\n",
              " Substring(137, 138, ','),\n",
              " Substring(139, 149, 'анализируя'),\n",
              " Substring(150, 156, 'данные'),\n",
              " Substring(157, 167, 'наблюдений'),\n",
              " Substring(167, 168, ','),\n",
              " Substring(169, 176, 'которые'),\n",
              " Substring(177, 183, 'велись'),\n",
              " Substring(184, 185, 'с'),\n",
              " Substring(186, 190, '1755'),\n",
              " Substring(191, 195, 'года'),\n",
              " Substring(195, 196, ','),\n",
              " Substring(197, 206, 'обнаружил'),\n",
              " Substring(206, 207, ','),\n",
              " Substring(208, 211, 'что'),\n",
              " Substring(212, 218, 'Сириус'),\n",
              " Substring(218, 219, ','),\n",
              " Substring(220, 228, 'ярчайшая'),\n",
              " Substring(229, 235, 'звезда'),\n",
              " Substring(236, 243, 'земного'),\n",
              " Substring(244, 248, 'неба'),\n",
              " Substring(248, 249, ','),\n",
              " Substring(250, 251, 'и'),\n",
              " Substring(252, 259, 'Процион'),\n",
              " Substring(260, 272, 'периодически'),\n",
              " Substring(272, 273, ','),\n",
              " Substring(274, 278, 'хотя'),\n",
              " Substring(279, 280, 'и'),\n",
              " Substring(281, 287, 'весьма'),\n",
              " Substring(288, 293, 'слабо'),\n",
              " Substring(293, 294, ','),\n",
              " Substring(295, 306, 'отклоняются'),\n",
              " Substring(307, 309, 'от'),\n",
              " Substring(310, 323, 'прямолинейной'),\n",
              " Substring(324, 334, 'траектории'),\n",
              " Substring(335, 343, 'движения'),\n",
              " Substring(344, 346, 'по'),\n",
              " Substring(347, 355, 'небесной'),\n",
              " Substring(356, 361, 'сфере'),\n",
              " Substring(361, 362, '['),\n",
              " Substring(362, 363, '5'),\n",
              " Substring(363, 364, ']'),\n",
              " Substring(364, 365, '.'),\n",
              " Substring(366, 373, 'Бессель'),\n",
              " Substring(374, 380, 'пришёл'),\n",
              " Substring(381, 382, 'к'),\n",
              " Substring(383, 389, 'выводу'),\n",
              " Substring(389, 390, ','),\n",
              " Substring(391, 394, 'что'),\n",
              " Substring(395, 396, 'у'),\n",
              " Substring(397, 403, 'каждой'),\n",
              " Substring(404, 406, 'из'),\n",
              " Substring(407, 410, 'них'),\n",
              " Substring(411, 417, 'должен'),\n",
              " Substring(418, 422, 'быть'),\n",
              " Substring(423, 430, 'близкий'),\n",
              " Substring(431, 438, 'спутник'),\n",
              " Substring(438, 439, '.'),\n",
              " Substring(440, 449, 'Сообщение'),\n",
              " Substring(450, 454, 'было'),\n",
              " Substring(455, 464, 'встречено'),\n",
              " Substring(465, 476, 'скептически'),\n",
              " Substring(476, 477, ','),\n",
              " Substring(478, 487, 'поскольку'),\n",
              " Substring(488, 494, 'слабый'),\n",
              " Substring(495, 502, 'спутник'),\n",
              " Substring(503, 512, 'оставался'),\n",
              " Substring(513, 526, 'ненаблюдаемым'),\n",
              " Substring(526, 527, ','),\n",
              " Substring(528, 529, 'а'),\n",
              " Substring(530, 533, 'его'),\n",
              " Substring(534, 539, 'масса'),\n",
              " Substring(540, 546, 'должна'),\n",
              " Substring(547, 551, 'была'),\n",
              " Substring(552, 556, 'быть'),\n",
              " Substring(557, 567, 'достаточно'),\n",
              " Substring(568, 574, 'велика'),\n",
              " Substring(575, 576, '—'),\n",
              " Substring(577, 586, 'сравнимой'),\n",
              " Substring(587, 588, 'с'),\n",
              " Substring(589, 595, 'массой'),\n",
              " Substring(596, 603, 'Сириуса'),\n",
              " Substring(604, 605, 'и'),\n",
              " Substring(606, 614, 'Проциона'),\n",
              " Substring(614, 615, ','),\n",
              " Substring(616, 630, 'соответственно'),\n",
              " Substring(630, 631, '.'),\n",
              " Substring(633, 634, 'В'),\n",
              " Substring(635, 641, 'январе'),\n",
              " Substring(642, 646, '1862'),\n",
              " Substring(647, 651, 'года'),\n",
              " Substring(652, 657, 'Элвин'),\n",
              " Substring(658, 664, 'Грэхэм'),\n",
              " Substring(665, 670, 'Кларк'),\n",
              " Substring(670, 671, ','),\n",
              " Substring(672, 679, 'юстируя'),\n",
              " Substring(680, 691, '18-дюймовый'),\n",
              " Substring(692, 701, 'рефрактор'),\n",
              " Substring(701, 702, ','),\n",
              " Substring(703, 708, 'самый'),\n",
              " Substring(709, 716, 'большой'),\n",
              " Substring(717, 719, 'на'),\n",
              " Substring(720, 722, 'то'),\n",
              " Substring(723, 728, 'время'),\n",
              " Substring(729, 737, 'телескоп'),\n",
              " Substring(738, 739, 'в'),\n",
              " Substring(740, 744, 'мире'),\n",
              " Substring(745, 746, '('),\n",
              " Substring(746, 754, 'Dearborn'),\n",
              " Substring(755, 764, 'Telescope'),\n",
              " Substring(764, 765, ')'),\n",
              " Substring(765, 766, ','),\n",
              " Substring(767, 779, 'впоследствии'),\n",
              " Substring(780, 792, 'поставленный'),\n",
              " Substring(793, 801, 'семейной'),\n",
              " Substring(802, 808, 'фирмой'),\n",
              " Substring(809, 816, 'Кларков'),\n",
              " Substring(817, 818, 'в'),\n",
              " Substring(819, 831, 'обсерваторию'),\n",
              " Substring(832, 842, 'Чикагского'),\n",
              " Substring(843, 855, 'университета'),\n",
              " Substring(855, 856, ','),\n",
              " Substring(857, 866, 'обнаружил'),\n",
              " Substring(867, 868, 'в'),\n",
              " Substring(869, 885, 'непосредственной'),\n",
              " Substring(886, 894, 'близости'),\n",
              " Substring(895, 897, 'от'),\n",
              " Substring(898, 905, 'Сириуса'),\n",
              " Substring(906, 913, 'тусклую'),\n",
              " Substring(914, 923, 'звёздочку'),\n",
              " Substring(923, 924, '.'),\n",
              " Substring(925, 928, 'Это'),\n",
              " Substring(929, 932, 'был'),\n",
              " Substring(933, 940, 'спутник'),\n",
              " Substring(941, 948, 'Сириуса'),\n",
              " Substring(948, 949, ','),\n",
              " Substring(950, 956, 'Сириус'),\n",
              " Substring(957, 958, 'B'),\n",
              " Substring(958, 959, ','),\n",
              " Substring(960, 973, 'предсказанный'),\n",
              " Substring(974, 982, 'Бесселем'),\n",
              " Substring(982, 983, '['),\n",
              " Substring(983, 984, '6'),\n",
              " Substring(984, 985, ']'),\n",
              " Substring(985, 986, '.'),\n",
              " Substring(987, 988, 'А'),\n",
              " Substring(989, 990, 'в'),\n",
              " Substring(991, 995, '1896'),\n",
              " Substring(996, 1000, 'году'),\n",
              " Substring(1001, 1013, 'американский'),\n",
              " Substring(1014, 1022, 'астроном'),\n",
              " Substring(1023, 1024, 'Д'),\n",
              " Substring(1024, 1025, '.'),\n",
              " Substring(1026, 1027, 'М'),\n",
              " Substring(1027, 1028, '.'),\n",
              " Substring(1029, 1036, 'Шеберле'),\n",
              " Substring(1037, 1043, 'открыл'),\n",
              " Substring(1044, 1051, 'Процион'),\n",
              " Substring(1052, 1053, 'B'),\n",
              " Substring(1053, 1054, ','),\n",
              " Substring(1055, 1065, 'подтвердив'),\n",
              " Substring(1066, 1069, 'тем'),\n",
              " Substring(1070, 1075, 'самым'),\n",
              " Substring(1076, 1077, 'и'),\n",
              " Substring(1078, 1084, 'второе'),\n",
              " Substring(1085, 1097, 'предсказание'),\n",
              " Substring(1098, 1105, 'Бесселя'),\n",
              " Substring(1105, 1106, '.'),\n",
              " Substring(1108, 1109, 'В'),\n",
              " Substring(1110, 1114, '1915'),\n",
              " Substring(1115, 1119, 'году'),\n",
              " Substring(1120, 1132, 'американский'),\n",
              " Substring(1133, 1141, 'астроном'),\n",
              " Substring(1142, 1148, 'Уолтер'),\n",
              " Substring(1149, 1155, 'Сидней'),\n",
              " Substring(1156, 1161, 'Адамс'),\n",
              " Substring(1162, 1169, 'измерил'),\n",
              " Substring(1170, 1176, 'спектр'),\n",
              " Substring(1177, 1184, 'Сириуса'),\n",
              " Substring(1185, 1186, 'B'),\n",
              " Substring(1186, 1187, '.'),\n",
              " Substring(1188, 1190, 'Из'),\n",
              " Substring(1191, 1200, 'измерений'),\n",
              " Substring(1201, 1210, 'следовало'),\n",
              " Substring(1210, 1211, ','),\n",
              " Substring(1212, 1215, 'что'),\n",
              " Substring(1216, 1219, 'его'),\n",
              " Substring(1220, 1231, 'температура'),\n",
              " Substring(1232, 1234, 'не'),\n",
              " Substring(1235, 1239, 'ниже'),\n",
              " Substring(1239, 1240, ','),\n",
              " Substring(1241, 1244, 'чем'),\n",
              " Substring(1245, 1246, 'у'),\n",
              " Substring(1247, 1254, 'Сириуса'),\n",
              " Substring(1255, 1256, 'A'),\n",
              " Substring(1257, 1258, '('),\n",
              " Substring(1258, 1260, 'по'),\n",
              " Substring(1261, 1272, 'современным'),\n",
              " Substring(1273, 1279, 'данным'),\n",
              " Substring(1279, 1280, ','),\n",
              " Substring(1281, 1292, 'температура'),\n",
              " Substring(1293, 1304, 'поверхности'),\n",
              " Substring(1305, 1312, 'Сириуса'),\n",
              " Substring(1313, 1314, 'B'),\n",
              " Substring(1315, 1325, 'составляет'),\n",
              " Substring(1326, 1328, '25'),\n",
              " Substring(1329, 1332, '000'),\n",
              " Substring(1333, 1334, 'K'),\n",
              " Substring(1334, 1335, ','),\n",
              " Substring(1336, 1337, 'а'),\n",
              " Substring(1338, 1345, 'Сириуса'),\n",
              " Substring(1346, 1347, 'A'),\n",
              " Substring(1348, 1349, '—'),\n",
              " Substring(1350, 1352, '10'),\n",
              " Substring(1353, 1356, '000'),\n",
              " Substring(1357, 1358, 'К'),\n",
              " Substring(1358, 1359, ')'),\n",
              " Substring(1359, 1360, ','),\n",
              " Substring(1361, 1364, 'что'),\n",
              " Substring(1364, 1365, ','),\n",
              " Substring(1366, 1367, 'с'),\n",
              " Substring(1368, 1374, 'учётом'),\n",
              " Substring(1375, 1378, 'его'),\n",
              " Substring(1379, 1380, 'в'),\n",
              " Substring(1381, 1383, '10'),\n",
              " Substring(1384, 1387, '000'),\n",
              " Substring(1388, 1391, 'раз'),\n",
              " Substring(1392, 1399, 'меньшей'),\n",
              " Substring(1399, 1400, ','),\n",
              " Substring(1401, 1404, 'чем'),\n",
              " Substring(1405, 1406, 'у'),\n",
              " Substring(1407, 1414, 'Сириуса'),\n",
              " Substring(1415, 1416, 'A'),\n",
              " Substring(1416, 1417, ','),\n",
              " Substring(1418, 1428, 'светимости'),\n",
              " Substring(1429, 1438, 'указывает'),\n",
              " Substring(1439, 1441, 'на'),\n",
              " Substring(1442, 1447, 'очень'),\n",
              " Substring(1448, 1453, 'малый'),\n",
              " Substring(1454, 1460, 'радиус'),\n",
              " Substring(1461, 1462, 'и'),\n",
              " Substring(1462, 1463, ','),\n",
              " Substring(1464, 1478, 'соответственно'),\n",
              " Substring(1478, 1479, ','),\n",
              " Substring(1480, 1487, 'высокую'),\n",
              " Substring(1488, 1497, 'плотность'),\n",
              " Substring(1498, 1499, '—'),\n",
              " Substring(1500, 1503, '106'),\n",
              " Substring(1504, 1505, 'г'),\n",
              " Substring(1505, 1506, '/'),\n",
              " Substring(1506, 1508, 'см'),\n",
              " Substring(1508, 1509, '3'),\n",
              " Substring(1510, 1511, '('),\n",
              " Substring(1511, 1520, 'плотность'),\n",
              " Substring(1521, 1528, 'Сириуса'),\n",
              " Substring(1529, 1530, '~'),\n",
              " Substring(1530, 1534, '0,25'),\n",
              " Substring(1535, 1536, 'г'),\n",
              " Substring(1536, 1537, '/'),\n",
              " Substring(1537, 1539, 'см'),\n",
              " Substring(1539, 1540, '3'),\n",
              " Substring(1540, 1541, ','),\n",
              " Substring(1542, 1551, 'плотность'),\n",
              " Substring(1552, 1558, 'Солнца'),\n",
              " Substring(1559, 1560, '~'),\n",
              " Substring(1560, 1563, '1,4'),\n",
              " Substring(1564, 1565, 'г'),\n",
              " Substring(1565, 1566, '/'),\n",
              " Substring(1566, 1568, 'см'),\n",
              " Substring(1568, 1569, '3'),\n",
              " Substring(1569, 1570, ')'),\n",
              " Substring(1570, 1571, '.')]"
            ]
          },
          "metadata": {},
          "execution_count": 8
        }
      ]
    },
    {
      "cell_type": "code",
      "source": [
        "tokenized_text = [parse['text'] for parse in words if parse.get('analysis')]"
      ],
      "metadata": {
        "id": "o4pvaRFxOGpe"
      },
      "execution_count": 9,
      "outputs": []
    },
    {
      "cell_type": "code",
      "source": [
        "tokenized_text"
      ],
      "metadata": {
        "id": "adhP8JX8PCeb",
        "colab": {
          "base_uri": "https://localhost:8080/"
        },
        "outputId": "7216b964-eb35-4f31-c4d7-6032552f9243"
      },
      "execution_count": 10,
      "outputs": [
        {
          "output_type": "execute_result",
          "data": {
            "text/plain": [
              "['Вторым',\n",
              " 'и',\n",
              " 'третьим',\n",
              " 'открытыми',\n",
              " 'белыми',\n",
              " 'карликами',\n",
              " 'стали',\n",
              " 'Сириус',\n",
              " 'и',\n",
              " 'Процион',\n",
              " 'В',\n",
              " 'году',\n",
              " 'директор',\n",
              " 'Кёнигсбергской',\n",
              " 'обсерватории',\n",
              " 'Фридрих',\n",
              " 'Бессель',\n",
              " 'анализируя',\n",
              " 'данные',\n",
              " 'наблюдений',\n",
              " 'которые',\n",
              " 'велись',\n",
              " 'с',\n",
              " 'года',\n",
              " 'обнаружил',\n",
              " 'что',\n",
              " 'Сириус',\n",
              " 'ярчайшая',\n",
              " 'звезда',\n",
              " 'земного',\n",
              " 'неба',\n",
              " 'и',\n",
              " 'Процион',\n",
              " 'периодически',\n",
              " 'хотя',\n",
              " 'и',\n",
              " 'весьма',\n",
              " 'слабо',\n",
              " 'отклоняются',\n",
              " 'от',\n",
              " 'прямолинейной',\n",
              " 'траектории',\n",
              " 'движения',\n",
              " 'по',\n",
              " 'небесной',\n",
              " 'сфере',\n",
              " 'Бессель',\n",
              " 'пришёл',\n",
              " 'к',\n",
              " 'выводу',\n",
              " 'что',\n",
              " 'у',\n",
              " 'каждой',\n",
              " 'из',\n",
              " 'них',\n",
              " 'должен',\n",
              " 'быть',\n",
              " 'близкий',\n",
              " 'спутник',\n",
              " 'Сообщение',\n",
              " 'было',\n",
              " 'встречено',\n",
              " 'скептически',\n",
              " 'поскольку',\n",
              " 'слабый',\n",
              " 'спутник',\n",
              " 'оставался',\n",
              " 'ненаблюдаемым',\n",
              " 'а',\n",
              " 'его',\n",
              " 'масса',\n",
              " 'должна',\n",
              " 'была',\n",
              " 'быть',\n",
              " 'достаточно',\n",
              " 'велика',\n",
              " 'сравнимой',\n",
              " 'с',\n",
              " 'массой',\n",
              " 'Сириуса',\n",
              " 'и',\n",
              " 'Проциона',\n",
              " 'соответственно',\n",
              " 'В',\n",
              " 'январе',\n",
              " 'года',\n",
              " 'Элвин',\n",
              " 'Грэхэм',\n",
              " 'Кларк',\n",
              " 'юстируя',\n",
              " 'дюймовый',\n",
              " 'рефрактор',\n",
              " 'самый',\n",
              " 'большой',\n",
              " 'на',\n",
              " 'то',\n",
              " 'время',\n",
              " 'телескоп',\n",
              " 'в',\n",
              " 'мире',\n",
              " 'впоследствии',\n",
              " 'поставленный',\n",
              " 'семейной',\n",
              " 'фирмой',\n",
              " 'Кларков',\n",
              " 'в',\n",
              " 'обсерваторию',\n",
              " 'Чикагского',\n",
              " 'университета',\n",
              " 'обнаружил',\n",
              " 'в',\n",
              " 'непосредственной',\n",
              " 'близости',\n",
              " 'от',\n",
              " 'Сириуса',\n",
              " 'тусклую',\n",
              " 'звёздочку',\n",
              " 'Это',\n",
              " 'был',\n",
              " 'спутник',\n",
              " 'Сириуса',\n",
              " 'Сириус',\n",
              " 'предсказанный',\n",
              " 'Бесселем',\n",
              " 'А',\n",
              " 'в',\n",
              " 'году',\n",
              " 'американский',\n",
              " 'астроном',\n",
              " 'Д',\n",
              " 'М',\n",
              " 'Шеберле',\n",
              " 'открыл',\n",
              " 'Процион',\n",
              " 'подтвердив',\n",
              " 'тем',\n",
              " 'самым',\n",
              " 'и',\n",
              " 'второе',\n",
              " 'предсказание',\n",
              " 'Бесселя',\n",
              " 'В',\n",
              " 'году',\n",
              " 'американский',\n",
              " 'астроном',\n",
              " 'Уолтер',\n",
              " 'Сидней',\n",
              " 'Адамс',\n",
              " 'измерил',\n",
              " 'спектр',\n",
              " 'Сириуса',\n",
              " 'Из',\n",
              " 'измерений',\n",
              " 'следовало',\n",
              " 'что',\n",
              " 'его',\n",
              " 'температура',\n",
              " 'не',\n",
              " 'ниже',\n",
              " 'чем',\n",
              " 'у',\n",
              " 'Сириуса',\n",
              " 'по',\n",
              " 'современным',\n",
              " 'данным',\n",
              " 'температура',\n",
              " 'поверхности',\n",
              " 'Сириуса',\n",
              " 'составляет',\n",
              " 'а',\n",
              " 'Сириуса',\n",
              " 'К',\n",
              " 'что',\n",
              " 'с',\n",
              " 'учётом',\n",
              " 'его',\n",
              " 'в',\n",
              " 'раз',\n",
              " 'меньшей',\n",
              " 'чем',\n",
              " 'у',\n",
              " 'Сириуса',\n",
              " 'светимости',\n",
              " 'указывает',\n",
              " 'на',\n",
              " 'очень',\n",
              " 'малый',\n",
              " 'радиус',\n",
              " 'и',\n",
              " 'соответственно',\n",
              " 'высокую',\n",
              " 'плотность',\n",
              " 'г',\n",
              " 'плотность',\n",
              " 'Сириуса',\n",
              " 'г',\n",
              " 'плотность',\n",
              " 'Солнца',\n",
              " 'г']"
            ]
          },
          "metadata": {},
          "execution_count": 10
        }
      ]
    },
    {
      "cell_type": "markdown",
      "source": [
        "# ***3. Лемматизация Mystem vs Pymorphy (2 балла)***\n",
        "Лемматизируйте текст с помощью mystem и pymorphy. Найдите различия в лемматизации. Что по вашему работает лучше на приведенном тексте?\n",
        "\n",
        "Важно: для пайморфи используйте токенизацию из mystem, чтобы исключить влияние токенизации на результат. Анализируйте только значимые различия, а не технические особенности (не сравнивайте скорость работы и удобность интерфейса).\n",
        "\n",
        "В майстеме убедитесь, что используется дизамбигуация.\n",
        "\n",
        "\n",
        "# ***Ответ:***\n",
        "Если пользоваться функцией лематайз в майстеме, то при автомат.токенизации не удаляются числовые последовательности, знаки препинания, что существенно затрудняет считывание лемм, однако несмотря на это леммантизация вполне себе хороша, в пайморфи3, если использовать токенизацию майсетма, то все хорошо, дргуими словами,\n",
        "\n",
        "Итого: пайморфи 3 с токенизацией майстема(где убраные все знаки и тд) работает лучше, чем голый майсем.лемматайз, результат читабельнее, и не появляется ложных лемм из-за числовых последоватлеьностей и знаков препининия.\n",
        "\n",
        "Одако сущ. 'данные' в фразе анализировать данные пайморфи распознал как 'дать', в то время как майстем справился успешно. Других существеных отличий я не обнаружил"
      ],
      "metadata": {
        "id": "wh6YXh1s_6WV"
      }
    },
    {
      "cell_type": "code",
      "source": [
        "mystem = Mystem(disambiguation=True)"
      ],
      "metadata": {
        "id": "6oaYf_y0ATXh"
      },
      "execution_count": 11,
      "outputs": []
    },
    {
      "cell_type": "code",
      "source": [
        "result_task3_mystem = mystem.lemmatize(text)"
      ],
      "metadata": {
        "id": "xh_buUw9IIbV"
      },
      "execution_count": 12,
      "outputs": []
    },
    {
      "cell_type": "code",
      "source": [
        "!pip install pymorphy3"
      ],
      "metadata": {
        "colab": {
          "base_uri": "https://localhost:8080/"
        },
        "id": "ntDVnXrUKWMN",
        "outputId": "c2e15e18-c14e-4ab0-95ce-7a34d743ec76"
      },
      "execution_count": 13,
      "outputs": [
        {
          "output_type": "stream",
          "name": "stdout",
          "text": [
            "Requirement already satisfied: pymorphy3 in /usr/local/lib/python3.10/dist-packages (2.0.2)\n",
            "Requirement already satisfied: dawg-python>=0.7.1 in /usr/local/lib/python3.10/dist-packages (from pymorphy3) (0.7.2)\n",
            "Requirement already satisfied: pymorphy3-dicts-ru in /usr/local/lib/python3.10/dist-packages (from pymorphy3) (2.4.417150.4580142)\n"
          ]
        }
      ]
    },
    {
      "cell_type": "code",
      "source": [
        "\n",
        "from pymorphy3 import MorphAnalyzer\n",
        "morph = MorphAnalyzer()"
      ],
      "metadata": {
        "id": "vvejksKkINFU"
      },
      "execution_count": 14,
      "outputs": []
    },
    {
      "cell_type": "code",
      "source": [
        "result_task3_pymorphy = [morph.parse(token)[0].normal_form  for token in tokenized_text]"
      ],
      "metadata": {
        "id": "VswC6JoWKTdH"
      },
      "execution_count": 15,
      "outputs": []
    },
    {
      "cell_type": "code",
      "source": [
        "result_task3_pymorphy[:20]"
      ],
      "metadata": {
        "colab": {
          "base_uri": "https://localhost:8080/"
        },
        "id": "0snQ22ioKwmq",
        "outputId": "c977244c-6770-4497-e4f7-09692b824021"
      },
      "execution_count": 16,
      "outputs": [
        {
          "output_type": "execute_result",
          "data": {
            "text/plain": [
              "['второй',\n",
              " 'и',\n",
              " 'третий',\n",
              " 'открытый',\n",
              " 'белый',\n",
              " 'карлик',\n",
              " 'стать',\n",
              " 'сириус',\n",
              " 'и',\n",
              " 'процион',\n",
              " 'в',\n",
              " 'год',\n",
              " 'директор',\n",
              " 'кёнигсбергский',\n",
              " 'обсерватория',\n",
              " 'фридрих',\n",
              " 'бессель',\n",
              " 'анализировать',\n",
              " 'дать',\n",
              " 'наблюдение']"
            ]
          },
          "metadata": {},
          "execution_count": 16
        }
      ]
    },
    {
      "cell_type": "code",
      "source": [
        "import re\n",
        "task3_mystem_after_re = re.findall('[А-Яа-яЁё]+', str(result_task3_mystem))"
      ],
      "metadata": {
        "id": "LI5j9nKLLoOf"
      },
      "execution_count": 17,
      "outputs": []
    },
    {
      "cell_type": "code",
      "source": [
        "task3_mystem_after_re[:20]"
      ],
      "metadata": {
        "colab": {
          "base_uri": "https://localhost:8080/"
        },
        "id": "vWUQBUACL7da",
        "outputId": "cbb6546a-b5b6-40a4-d7c2-51c98b464bfc"
      },
      "execution_count": 18,
      "outputs": [
        {
          "output_type": "execute_result",
          "data": {
            "text/plain": [
              "['второй',\n",
              " 'и',\n",
              " 'третий',\n",
              " 'открытый',\n",
              " 'белый',\n",
              " 'карлик',\n",
              " 'становиться',\n",
              " 'сириус',\n",
              " 'и',\n",
              " 'процион',\n",
              " 'в',\n",
              " 'год',\n",
              " 'директор',\n",
              " 'кенигсбергский',\n",
              " 'обсерватория',\n",
              " 'фридрих',\n",
              " 'бессель',\n",
              " 'анализировать',\n",
              " 'данные',\n",
              " 'наблюдение']"
            ]
          },
          "metadata": {},
          "execution_count": 18
        }
      ]
    },
    {
      "cell_type": "markdown",
      "source": [
        "# ***4. Лемматизация в SpaCy (2 балла)***\n",
        "С помощью Spacy (модель для русского языка) лемматизируйте тот же текст. Проверьте есть ли различия с Mystem и Pymoprhy.\n",
        "\n",
        "# ***Ответ***\n",
        "С лемматизацией в приницпе тоже справилась библиотека, из проблем только что не проводится автоматическая предобработка текста(не только тут), и поэтому некоторые леммы указываются неверно, хотя там как минимум скобки можно было бы и автоматически подчищать, чтобы такое не получалось:\n",
        "сфере[5 - это уже лемма\n",
        "]\n",
        "\n",
        "ну и как я понимаю все-таки русский не являлся таргет-языком для лемматизации, поэтому предпочтительнее использовать другие библиотеки для р.я."
      ],
      "metadata": {
        "id": "zCWYaiUPSTgI"
      }
    },
    {
      "cell_type": "code",
      "source": [
        "!pip install spacy"
      ],
      "metadata": {
        "colab": {
          "base_uri": "https://localhost:8080/"
        },
        "id": "S1ZLgRf7TRoR",
        "outputId": "ee681ca5-29a1-44f0-fa44-53e0b8dfc83a"
      },
      "execution_count": 19,
      "outputs": [
        {
          "output_type": "stream",
          "name": "stdout",
          "text": [
            "Requirement already satisfied: spacy in /usr/local/lib/python3.10/dist-packages (3.7.5)\n",
            "Requirement already satisfied: spacy-legacy<3.1.0,>=3.0.11 in /usr/local/lib/python3.10/dist-packages (from spacy) (3.0.12)\n",
            "Requirement already satisfied: spacy-loggers<2.0.0,>=1.0.0 in /usr/local/lib/python3.10/dist-packages (from spacy) (1.0.5)\n",
            "Requirement already satisfied: murmurhash<1.1.0,>=0.28.0 in /usr/local/lib/python3.10/dist-packages (from spacy) (1.0.10)\n",
            "Requirement already satisfied: cymem<2.1.0,>=2.0.2 in /usr/local/lib/python3.10/dist-packages (from spacy) (2.0.8)\n",
            "Requirement already satisfied: preshed<3.1.0,>=3.0.2 in /usr/local/lib/python3.10/dist-packages (from spacy) (3.0.9)\n",
            "Requirement already satisfied: thinc<8.3.0,>=8.2.2 in /usr/local/lib/python3.10/dist-packages (from spacy) (8.2.5)\n",
            "Requirement already satisfied: wasabi<1.2.0,>=0.9.1 in /usr/local/lib/python3.10/dist-packages (from spacy) (1.1.3)\n",
            "Requirement already satisfied: srsly<3.0.0,>=2.4.3 in /usr/local/lib/python3.10/dist-packages (from spacy) (2.4.8)\n",
            "Requirement already satisfied: catalogue<2.1.0,>=2.0.6 in /usr/local/lib/python3.10/dist-packages (from spacy) (2.0.10)\n",
            "Requirement already satisfied: weasel<0.5.0,>=0.1.0 in /usr/local/lib/python3.10/dist-packages (from spacy) (0.4.1)\n",
            "Requirement already satisfied: typer<1.0.0,>=0.3.0 in /usr/local/lib/python3.10/dist-packages (from spacy) (0.13.0)\n",
            "Requirement already satisfied: tqdm<5.0.0,>=4.38.0 in /usr/local/lib/python3.10/dist-packages (from spacy) (4.66.6)\n",
            "Requirement already satisfied: requests<3.0.0,>=2.13.0 in /usr/local/lib/python3.10/dist-packages (from spacy) (2.32.3)\n",
            "Requirement already satisfied: pydantic!=1.8,!=1.8.1,<3.0.0,>=1.7.4 in /usr/local/lib/python3.10/dist-packages (from spacy) (2.9.2)\n",
            "Requirement already satisfied: jinja2 in /usr/local/lib/python3.10/dist-packages (from spacy) (3.1.4)\n",
            "Requirement already satisfied: setuptools in /usr/local/lib/python3.10/dist-packages (from spacy) (75.1.0)\n",
            "Requirement already satisfied: packaging>=20.0 in /usr/local/lib/python3.10/dist-packages (from spacy) (24.2)\n",
            "Requirement already satisfied: langcodes<4.0.0,>=3.2.0 in /usr/local/lib/python3.10/dist-packages (from spacy) (3.4.1)\n",
            "Requirement already satisfied: numpy>=1.19.0 in /usr/local/lib/python3.10/dist-packages (from spacy) (1.26.4)\n",
            "Requirement already satisfied: language-data>=1.2 in /usr/local/lib/python3.10/dist-packages (from langcodes<4.0.0,>=3.2.0->spacy) (1.2.0)\n",
            "Requirement already satisfied: annotated-types>=0.6.0 in /usr/local/lib/python3.10/dist-packages (from pydantic!=1.8,!=1.8.1,<3.0.0,>=1.7.4->spacy) (0.7.0)\n",
            "Requirement already satisfied: pydantic-core==2.23.4 in /usr/local/lib/python3.10/dist-packages (from pydantic!=1.8,!=1.8.1,<3.0.0,>=1.7.4->spacy) (2.23.4)\n",
            "Requirement already satisfied: typing-extensions>=4.6.1 in /usr/local/lib/python3.10/dist-packages (from pydantic!=1.8,!=1.8.1,<3.0.0,>=1.7.4->spacy) (4.12.2)\n",
            "Requirement already satisfied: charset-normalizer<4,>=2 in /usr/local/lib/python3.10/dist-packages (from requests<3.0.0,>=2.13.0->spacy) (3.4.0)\n",
            "Requirement already satisfied: idna<4,>=2.5 in /usr/local/lib/python3.10/dist-packages (from requests<3.0.0,>=2.13.0->spacy) (3.10)\n",
            "Requirement already satisfied: urllib3<3,>=1.21.1 in /usr/local/lib/python3.10/dist-packages (from requests<3.0.0,>=2.13.0->spacy) (2.2.3)\n",
            "Requirement already satisfied: certifi>=2017.4.17 in /usr/local/lib/python3.10/dist-packages (from requests<3.0.0,>=2.13.0->spacy) (2024.8.30)\n",
            "Requirement already satisfied: blis<0.8.0,>=0.7.8 in /usr/local/lib/python3.10/dist-packages (from thinc<8.3.0,>=8.2.2->spacy) (0.7.11)\n",
            "Requirement already satisfied: confection<1.0.0,>=0.0.1 in /usr/local/lib/python3.10/dist-packages (from thinc<8.3.0,>=8.2.2->spacy) (0.1.5)\n",
            "Requirement already satisfied: click>=8.0.0 in /usr/local/lib/python3.10/dist-packages (from typer<1.0.0,>=0.3.0->spacy) (8.1.7)\n",
            "Requirement already satisfied: shellingham>=1.3.0 in /usr/local/lib/python3.10/dist-packages (from typer<1.0.0,>=0.3.0->spacy) (1.5.4)\n",
            "Requirement already satisfied: rich>=10.11.0 in /usr/local/lib/python3.10/dist-packages (from typer<1.0.0,>=0.3.0->spacy) (13.9.4)\n",
            "Requirement already satisfied: cloudpathlib<1.0.0,>=0.7.0 in /usr/local/lib/python3.10/dist-packages (from weasel<0.5.0,>=0.1.0->spacy) (0.20.0)\n",
            "Requirement already satisfied: smart-open<8.0.0,>=5.2.1 in /usr/local/lib/python3.10/dist-packages (from weasel<0.5.0,>=0.1.0->spacy) (7.0.5)\n",
            "Requirement already satisfied: MarkupSafe>=2.0 in /usr/local/lib/python3.10/dist-packages (from jinja2->spacy) (3.0.2)\n",
            "Requirement already satisfied: marisa-trie>=0.7.7 in /usr/local/lib/python3.10/dist-packages (from language-data>=1.2->langcodes<4.0.0,>=3.2.0->spacy) (1.2.1)\n",
            "Requirement already satisfied: markdown-it-py>=2.2.0 in /usr/local/lib/python3.10/dist-packages (from rich>=10.11.0->typer<1.0.0,>=0.3.0->spacy) (3.0.0)\n",
            "Requirement already satisfied: pygments<3.0.0,>=2.13.0 in /usr/local/lib/python3.10/dist-packages (from rich>=10.11.0->typer<1.0.0,>=0.3.0->spacy) (2.18.0)\n",
            "Requirement already satisfied: wrapt in /usr/local/lib/python3.10/dist-packages (from smart-open<8.0.0,>=5.2.1->weasel<0.5.0,>=0.1.0->spacy) (1.16.0)\n",
            "Requirement already satisfied: mdurl~=0.1 in /usr/local/lib/python3.10/dist-packages (from markdown-it-py>=2.2.0->rich>=10.11.0->typer<1.0.0,>=0.3.0->spacy) (0.1.2)\n"
          ]
        }
      ]
    },
    {
      "cell_type": "code",
      "source": [
        "!python -m spacy download ru_core_news_sm"
      ],
      "metadata": {
        "colab": {
          "base_uri": "https://localhost:8080/"
        },
        "id": "i4sHCTrAaXZj",
        "outputId": "b2f58636-dc92-403d-8f93-05ed4589c510"
      },
      "execution_count": 20,
      "outputs": [
        {
          "output_type": "stream",
          "name": "stdout",
          "text": [
            "Collecting ru-core-news-sm==3.7.0\n",
            "  Downloading https://github.com/explosion/spacy-models/releases/download/ru_core_news_sm-3.7.0/ru_core_news_sm-3.7.0-py3-none-any.whl (15.3 MB)\n",
            "\u001b[2K     \u001b[90m━━━━━━━━━━━━━━━━━━━━━━━━━━━━━━━━━━━━━━━━\u001b[0m \u001b[32m15.3/15.3 MB\u001b[0m \u001b[31m40.4 MB/s\u001b[0m eta \u001b[36m0:00:00\u001b[0m\n",
            "\u001b[?25hRequirement already satisfied: spacy<3.8.0,>=3.7.0 in /usr/local/lib/python3.10/dist-packages (from ru-core-news-sm==3.7.0) (3.7.5)\n",
            "Requirement already satisfied: pymorphy3>=1.0.0 in /usr/local/lib/python3.10/dist-packages (from ru-core-news-sm==3.7.0) (2.0.2)\n",
            "Requirement already satisfied: dawg-python>=0.7.1 in /usr/local/lib/python3.10/dist-packages (from pymorphy3>=1.0.0->ru-core-news-sm==3.7.0) (0.7.2)\n",
            "Requirement already satisfied: pymorphy3-dicts-ru in /usr/local/lib/python3.10/dist-packages (from pymorphy3>=1.0.0->ru-core-news-sm==3.7.0) (2.4.417150.4580142)\n",
            "Requirement already satisfied: spacy-legacy<3.1.0,>=3.0.11 in /usr/local/lib/python3.10/dist-packages (from spacy<3.8.0,>=3.7.0->ru-core-news-sm==3.7.0) (3.0.12)\n",
            "Requirement already satisfied: spacy-loggers<2.0.0,>=1.0.0 in /usr/local/lib/python3.10/dist-packages (from spacy<3.8.0,>=3.7.0->ru-core-news-sm==3.7.0) (1.0.5)\n",
            "Requirement already satisfied: murmurhash<1.1.0,>=0.28.0 in /usr/local/lib/python3.10/dist-packages (from spacy<3.8.0,>=3.7.0->ru-core-news-sm==3.7.0) (1.0.10)\n",
            "Requirement already satisfied: cymem<2.1.0,>=2.0.2 in /usr/local/lib/python3.10/dist-packages (from spacy<3.8.0,>=3.7.0->ru-core-news-sm==3.7.0) (2.0.8)\n",
            "Requirement already satisfied: preshed<3.1.0,>=3.0.2 in /usr/local/lib/python3.10/dist-packages (from spacy<3.8.0,>=3.7.0->ru-core-news-sm==3.7.0) (3.0.9)\n",
            "Requirement already satisfied: thinc<8.3.0,>=8.2.2 in /usr/local/lib/python3.10/dist-packages (from spacy<3.8.0,>=3.7.0->ru-core-news-sm==3.7.0) (8.2.5)\n",
            "Requirement already satisfied: wasabi<1.2.0,>=0.9.1 in /usr/local/lib/python3.10/dist-packages (from spacy<3.8.0,>=3.7.0->ru-core-news-sm==3.7.0) (1.1.3)\n",
            "Requirement already satisfied: srsly<3.0.0,>=2.4.3 in /usr/local/lib/python3.10/dist-packages (from spacy<3.8.0,>=3.7.0->ru-core-news-sm==3.7.0) (2.4.8)\n",
            "Requirement already satisfied: catalogue<2.1.0,>=2.0.6 in /usr/local/lib/python3.10/dist-packages (from spacy<3.8.0,>=3.7.0->ru-core-news-sm==3.7.0) (2.0.10)\n",
            "Requirement already satisfied: weasel<0.5.0,>=0.1.0 in /usr/local/lib/python3.10/dist-packages (from spacy<3.8.0,>=3.7.0->ru-core-news-sm==3.7.0) (0.4.1)\n",
            "Requirement already satisfied: typer<1.0.0,>=0.3.0 in /usr/local/lib/python3.10/dist-packages (from spacy<3.8.0,>=3.7.0->ru-core-news-sm==3.7.0) (0.13.0)\n",
            "Requirement already satisfied: tqdm<5.0.0,>=4.38.0 in /usr/local/lib/python3.10/dist-packages (from spacy<3.8.0,>=3.7.0->ru-core-news-sm==3.7.0) (4.66.6)\n",
            "Requirement already satisfied: requests<3.0.0,>=2.13.0 in /usr/local/lib/python3.10/dist-packages (from spacy<3.8.0,>=3.7.0->ru-core-news-sm==3.7.0) (2.32.3)\n",
            "Requirement already satisfied: pydantic!=1.8,!=1.8.1,<3.0.0,>=1.7.4 in /usr/local/lib/python3.10/dist-packages (from spacy<3.8.0,>=3.7.0->ru-core-news-sm==3.7.0) (2.9.2)\n",
            "Requirement already satisfied: jinja2 in /usr/local/lib/python3.10/dist-packages (from spacy<3.8.0,>=3.7.0->ru-core-news-sm==3.7.0) (3.1.4)\n",
            "Requirement already satisfied: setuptools in /usr/local/lib/python3.10/dist-packages (from spacy<3.8.0,>=3.7.0->ru-core-news-sm==3.7.0) (75.1.0)\n",
            "Requirement already satisfied: packaging>=20.0 in /usr/local/lib/python3.10/dist-packages (from spacy<3.8.0,>=3.7.0->ru-core-news-sm==3.7.0) (24.2)\n",
            "Requirement already satisfied: langcodes<4.0.0,>=3.2.0 in /usr/local/lib/python3.10/dist-packages (from spacy<3.8.0,>=3.7.0->ru-core-news-sm==3.7.0) (3.4.1)\n",
            "Requirement already satisfied: numpy>=1.19.0 in /usr/local/lib/python3.10/dist-packages (from spacy<3.8.0,>=3.7.0->ru-core-news-sm==3.7.0) (1.26.4)\n",
            "Requirement already satisfied: language-data>=1.2 in /usr/local/lib/python3.10/dist-packages (from langcodes<4.0.0,>=3.2.0->spacy<3.8.0,>=3.7.0->ru-core-news-sm==3.7.0) (1.2.0)\n",
            "Requirement already satisfied: annotated-types>=0.6.0 in /usr/local/lib/python3.10/dist-packages (from pydantic!=1.8,!=1.8.1,<3.0.0,>=1.7.4->spacy<3.8.0,>=3.7.0->ru-core-news-sm==3.7.0) (0.7.0)\n",
            "Requirement already satisfied: pydantic-core==2.23.4 in /usr/local/lib/python3.10/dist-packages (from pydantic!=1.8,!=1.8.1,<3.0.0,>=1.7.4->spacy<3.8.0,>=3.7.0->ru-core-news-sm==3.7.0) (2.23.4)\n",
            "Requirement already satisfied: typing-extensions>=4.6.1 in /usr/local/lib/python3.10/dist-packages (from pydantic!=1.8,!=1.8.1,<3.0.0,>=1.7.4->spacy<3.8.0,>=3.7.0->ru-core-news-sm==3.7.0) (4.12.2)\n",
            "Requirement already satisfied: charset-normalizer<4,>=2 in /usr/local/lib/python3.10/dist-packages (from requests<3.0.0,>=2.13.0->spacy<3.8.0,>=3.7.0->ru-core-news-sm==3.7.0) (3.4.0)\n",
            "Requirement already satisfied: idna<4,>=2.5 in /usr/local/lib/python3.10/dist-packages (from requests<3.0.0,>=2.13.0->spacy<3.8.0,>=3.7.0->ru-core-news-sm==3.7.0) (3.10)\n",
            "Requirement already satisfied: urllib3<3,>=1.21.1 in /usr/local/lib/python3.10/dist-packages (from requests<3.0.0,>=2.13.0->spacy<3.8.0,>=3.7.0->ru-core-news-sm==3.7.0) (2.2.3)\n",
            "Requirement already satisfied: certifi>=2017.4.17 in /usr/local/lib/python3.10/dist-packages (from requests<3.0.0,>=2.13.0->spacy<3.8.0,>=3.7.0->ru-core-news-sm==3.7.0) (2024.8.30)\n",
            "Requirement already satisfied: blis<0.8.0,>=0.7.8 in /usr/local/lib/python3.10/dist-packages (from thinc<8.3.0,>=8.2.2->spacy<3.8.0,>=3.7.0->ru-core-news-sm==3.7.0) (0.7.11)\n",
            "Requirement already satisfied: confection<1.0.0,>=0.0.1 in /usr/local/lib/python3.10/dist-packages (from thinc<8.3.0,>=8.2.2->spacy<3.8.0,>=3.7.0->ru-core-news-sm==3.7.0) (0.1.5)\n",
            "Requirement already satisfied: click>=8.0.0 in /usr/local/lib/python3.10/dist-packages (from typer<1.0.0,>=0.3.0->spacy<3.8.0,>=3.7.0->ru-core-news-sm==3.7.0) (8.1.7)\n",
            "Requirement already satisfied: shellingham>=1.3.0 in /usr/local/lib/python3.10/dist-packages (from typer<1.0.0,>=0.3.0->spacy<3.8.0,>=3.7.0->ru-core-news-sm==3.7.0) (1.5.4)\n",
            "Requirement already satisfied: rich>=10.11.0 in /usr/local/lib/python3.10/dist-packages (from typer<1.0.0,>=0.3.0->spacy<3.8.0,>=3.7.0->ru-core-news-sm==3.7.0) (13.9.4)\n",
            "Requirement already satisfied: cloudpathlib<1.0.0,>=0.7.0 in /usr/local/lib/python3.10/dist-packages (from weasel<0.5.0,>=0.1.0->spacy<3.8.0,>=3.7.0->ru-core-news-sm==3.7.0) (0.20.0)\n",
            "Requirement already satisfied: smart-open<8.0.0,>=5.2.1 in /usr/local/lib/python3.10/dist-packages (from weasel<0.5.0,>=0.1.0->spacy<3.8.0,>=3.7.0->ru-core-news-sm==3.7.0) (7.0.5)\n",
            "Requirement already satisfied: MarkupSafe>=2.0 in /usr/local/lib/python3.10/dist-packages (from jinja2->spacy<3.8.0,>=3.7.0->ru-core-news-sm==3.7.0) (3.0.2)\n",
            "Requirement already satisfied: marisa-trie>=0.7.7 in /usr/local/lib/python3.10/dist-packages (from language-data>=1.2->langcodes<4.0.0,>=3.2.0->spacy<3.8.0,>=3.7.0->ru-core-news-sm==3.7.0) (1.2.1)\n",
            "Requirement already satisfied: markdown-it-py>=2.2.0 in /usr/local/lib/python3.10/dist-packages (from rich>=10.11.0->typer<1.0.0,>=0.3.0->spacy<3.8.0,>=3.7.0->ru-core-news-sm==3.7.0) (3.0.0)\n",
            "Requirement already satisfied: pygments<3.0.0,>=2.13.0 in /usr/local/lib/python3.10/dist-packages (from rich>=10.11.0->typer<1.0.0,>=0.3.0->spacy<3.8.0,>=3.7.0->ru-core-news-sm==3.7.0) (2.18.0)\n",
            "Requirement already satisfied: wrapt in /usr/local/lib/python3.10/dist-packages (from smart-open<8.0.0,>=5.2.1->weasel<0.5.0,>=0.1.0->spacy<3.8.0,>=3.7.0->ru-core-news-sm==3.7.0) (1.16.0)\n",
            "Requirement already satisfied: mdurl~=0.1 in /usr/local/lib/python3.10/dist-packages (from markdown-it-py>=2.2.0->rich>=10.11.0->typer<1.0.0,>=0.3.0->spacy<3.8.0,>=3.7.0->ru-core-news-sm==3.7.0) (0.1.2)\n",
            "\u001b[38;5;2m✔ Download and installation successful\u001b[0m\n",
            "You can now load the package via spacy.load('ru_core_news_sm')\n",
            "\u001b[38;5;3m⚠ Restart to reload dependencies\u001b[0m\n",
            "If you are in a Jupyter or Colab notebook, you may need to restart Python in\n",
            "order to load all the package's dependencies. You can do this by selecting the\n",
            "'Restart kernel' or 'Restart runtime' option.\n"
          ]
        }
      ]
    },
    {
      "cell_type": "code",
      "source": [
        "import spacy\n",
        "\n",
        "nlp = spacy.load(\"ru_core_news_sm\")"
      ],
      "metadata": {
        "id": "dCXk7pF9adsz"
      },
      "execution_count": 21,
      "outputs": []
    },
    {
      "cell_type": "code",
      "source": [
        "doc = nlp(text)"
      ],
      "metadata": {
        "id": "FSVqMje-auOa"
      },
      "execution_count": 22,
      "outputs": []
    },
    {
      "cell_type": "code",
      "source": [
        "for sent in doc.sents: # достаем предложения\n",
        "    for token in sent: # достаем токены\n",
        "        print(token.lemma_,)\n"
      ],
      "metadata": {
        "colab": {
          "base_uri": "https://localhost:8080/"
        },
        "id": "W0L0aTEya8SC",
        "outputId": "cecf008e-e4c8-48e5-8900-1b54c17044da"
      },
      "execution_count": 23,
      "outputs": [
        {
          "output_type": "stream",
          "name": "stdout",
          "text": [
            "\n",
            "\n",
            "второй\n",
            "и\n",
            "третий\n",
            "открытый\n",
            "белый\n",
            "карлик\n",
            "стать\n",
            "сириус\n",
            "b\n",
            "и\n",
            "процион\n",
            "b.\n",
            "в\n",
            "1844\n",
            "год\n",
            "директор\n",
            "кёнигсбергский\n",
            "обсерватория\n",
            "фридрих\n",
            "бессель\n",
            ",\n",
            "анализировать\n",
            "данные\n",
            "наблюдение\n",
            ",\n",
            "которые\n",
            "вестись\n",
            "с\n",
            "1755\n",
            "год\n",
            ",\n",
            "обнаружить\n",
            ",\n",
            "что\n",
            "сириус\n",
            ",\n",
            "яркий\n",
            "звезда\n",
            "земной\n",
            "небо\n",
            ",\n",
            "и\n",
            "процион\n",
            "периодически\n",
            ",\n",
            "хотя\n",
            "и\n",
            "весьма\n",
            "слабо\n",
            ",\n",
            "отклоняться\n",
            "от\n",
            "прямолинейный\n",
            "траектория\n",
            "движение\n",
            "по\n",
            "небесный\n",
            "сфере[5\n",
            "]\n",
            ".\n",
            "бессель\n",
            "прийти\n",
            "к\n",
            "вывод\n",
            ",\n",
            "что\n",
            "у\n",
            "каждый\n",
            "из\n",
            "них\n",
            "должный\n",
            "быть\n",
            "близкий\n",
            "спутник\n",
            ".\n",
            "сообщение\n",
            "было\n",
            "встретить\n",
            "скептически\n",
            ",\n",
            "поскольку\n",
            "слабый\n",
            "спутник\n",
            "оставаться\n",
            "ненаблюдаемый\n",
            ",\n",
            "а\n",
            "он\n",
            "масса\n",
            "должный\n",
            "быть\n",
            "быть\n",
            "достаточно\n",
            "большой\n",
            "—\n",
            "сравнимый\n",
            "с\n",
            "масса\n",
            "сириус\n",
            "и\n",
            "проциона\n",
            ",\n",
            "соответственно\n",
            ".\n",
            "\n",
            "\n",
            "\n",
            "в\n",
            "январь\n",
            "1862\n",
            "год\n",
            "элвин\n",
            "грэхэм\n",
            "кларк\n",
            ",\n",
            "юстировать\n",
            "18-дюймовый\n",
            "рефрактор\n",
            ",\n",
            "самый\n",
            "большой\n",
            "на\n",
            "тот\n",
            "время\n",
            "телескоп\n",
            "в\n",
            "мир\n",
            "(\n",
            "dearborn\n",
            "telescope\n",
            ")\n",
            ",\n",
            "впоследствии\n",
            "поставить\n",
            "семейный\n",
            "фирма\n",
            "кларков\n",
            "в\n",
            "обсерватория\n",
            "чикагского\n",
            "университет\n",
            ",\n",
            "обнаружить\n",
            "в\n",
            "непосредственный\n",
            "близость\n",
            "от\n",
            "сириус\n",
            "тусклый\n",
            "звёздочка\n",
            ".\n",
            "это\n",
            "быть\n",
            "спутник\n",
            "сириус\n",
            ",\n",
            "сириус\n",
            "b\n",
            ",\n",
            "предсказанный\n",
            "бесселем[6\n",
            "]\n",
            ".\n",
            "а\n",
            "в\n",
            "1896\n",
            "год\n",
            "американский\n",
            "астроном\n",
            "д.\n",
            "м.\n",
            "шеберле\n",
            "открыть\n",
            "процион\n",
            "b\n",
            ",\n",
            "подтвердить\n",
            "тем\n",
            "самым\n",
            "и\n",
            "второй\n",
            "предсказание\n",
            "бесселя\n",
            ".\n",
            "\n",
            "\n",
            "\n",
            "в\n",
            "1915\n",
            "год\n",
            "американский\n",
            "астроном\n",
            "уолтер\n",
            "сидней\n",
            "адамс\n",
            "измерить\n",
            "спектр\n",
            "сириус\n",
            "b.\n",
            "Из\n",
            "измерение\n",
            "следовать\n",
            ",\n",
            "что\n",
            "он\n",
            "температура\n",
            "не\n",
            "низкий\n",
            ",\n",
            "чем\n",
            "у\n",
            "сириус\n",
            "a\n",
            "(\n",
            "по\n",
            "современный\n",
            "данным\n",
            ",\n",
            "температура\n",
            "поверхность\n",
            "сириус\n",
            "b\n",
            "составлять\n",
            "25\n",
            "000\n",
            "k\n",
            ",\n",
            "а\n",
            "сириуса\n",
            "a\n",
            "—\n",
            "10\n",
            "000\n",
            "к\n",
            ")\n",
            ",\n",
            "что\n",
            ",\n",
            "с\n",
            "учёт\n",
            "его\n",
            "в\n",
            "10\n",
            "000\n",
            "раз\n",
            "малый\n",
            ",\n",
            "чем\n",
            "у\n",
            "сириус\n",
            "a\n",
            ",\n",
            "светимость\n",
            "указывать\n",
            "на\n",
            "очень\n",
            "малый\n",
            "радиус\n",
            "и\n",
            ",\n",
            "соответственно\n",
            ",\n",
            "высокий\n",
            "плотность\n",
            "—\n",
            "106\n",
            "г\n",
            "/\n",
            "см3\n",
            "(\n",
            "плотность\n",
            "сириус\n",
            "~0,25\n",
            "г\n",
            "/\n",
            "см3\n",
            ",\n",
            "плотность\n",
            "солнце\n",
            "~1,4\n",
            "г\n",
            "/\n",
            "см3\n",
            ")\n",
            ".\n",
            "\n",
            "\n"
          ]
        }
      ]
    },
    {
      "cell_type": "markdown",
      "source": [],
      "metadata": {
        "id": "VzqPT0RSeb5L"
      }
    },
    {
      "cell_type": "markdown",
      "source": [
        "# 5*. LSH (2 балла)\n",
        "*необязательное задание чтобы получить 10 баллов\n",
        "\n",
        "Попробуйте искать дубликаты в настоящих текстах. Например, можете взять https://github.com/mannefedov/compling_nlp_hse_course/blob/master/data/anna_karenina.txt или https://github.com/mannefedov/compling_nlp_hse_course/blob/master/data/besy_dostoevsky.txt (или любой другой корпус)\n",
        "\n",
        "Используйте код из семинара для нахождения кандидатов в дубликаты (шинглы -> минхэш - lsh) и рассчитайте реальную меру Жаккара между полученными кандидатами. Настройте параметры k, num_hash_functions, bands так чтобы результаты получались адекватные (мера Жаккара хотя бы больше нуля).\n",
        "\n",
        "(Можете взять 500-1000 текстов если весь корпус обрабатывается слишком долго)\n",
        "\n",
        "# ***Результат:***\n",
        "\n",
        "Дубликаты нашлись, при том как полные так и нет, но столкнулся с такой ошибкой, что по поиску жаккарова расстояния получалось деление на 0 у некоторых кандидатов\n",
        "\n",
        "upd. Выяснил, что ошибка из-зр того что длина шинглов меньше заявленных 10\n",
        "\n",
        "\n"
      ],
      "metadata": {
        "id": "EXaNkwkIeYNP"
      }
    },
    {
      "cell_type": "code",
      "source": [
        "!pip install trafilatura lxml_html_clean"
      ],
      "metadata": {
        "colab": {
          "base_uri": "https://localhost:8080/"
        },
        "id": "gCBOFHT8a-Sd",
        "outputId": "1f97a434-1a2a-4c59-a3fe-ff12f8e0d0eb"
      },
      "execution_count": 24,
      "outputs": [
        {
          "output_type": "stream",
          "name": "stdout",
          "text": [
            "Requirement already satisfied: trafilatura in /usr/local/lib/python3.10/dist-packages (1.12.2)\n",
            "Requirement already satisfied: lxml_html_clean in /usr/local/lib/python3.10/dist-packages (0.4.1)\n",
            "Requirement already satisfied: certifi in /usr/local/lib/python3.10/dist-packages (from trafilatura) (2024.8.30)\n",
            "Requirement already satisfied: courlan>=1.2.0 in /usr/local/lib/python3.10/dist-packages (from trafilatura) (1.3.2)\n",
            "Requirement already satisfied: htmldate>=1.8.1 in /usr/local/lib/python3.10/dist-packages (from trafilatura) (1.9.2)\n",
            "Requirement already satisfied: justext>=3.0.1 in /usr/local/lib/python3.10/dist-packages (from trafilatura) (3.0.1)\n",
            "Requirement already satisfied: lxml>=5.2.2 in /usr/local/lib/python3.10/dist-packages (from trafilatura) (5.3.0)\n",
            "Requirement already satisfied: charset-normalizer>=3.2.0 in /usr/local/lib/python3.10/dist-packages (from trafilatura) (3.4.0)\n",
            "Requirement already satisfied: urllib3<3,>=1.26 in /usr/local/lib/python3.10/dist-packages (from trafilatura) (2.2.3)\n",
            "Requirement already satisfied: babel>=2.16.0 in /usr/local/lib/python3.10/dist-packages (from courlan>=1.2.0->trafilatura) (2.16.0)\n",
            "Requirement already satisfied: tld>=0.13 in /usr/local/lib/python3.10/dist-packages (from courlan>=1.2.0->trafilatura) (0.13)\n",
            "Requirement already satisfied: dateparser>=1.1.2 in /usr/local/lib/python3.10/dist-packages (from htmldate>=1.8.1->trafilatura) (1.2.0)\n",
            "Requirement already satisfied: python-dateutil>=2.9.0.post0 in /usr/local/lib/python3.10/dist-packages (from htmldate>=1.8.1->trafilatura) (2.9.0.post0)\n",
            "Requirement already satisfied: pytz in /usr/local/lib/python3.10/dist-packages (from dateparser>=1.1.2->htmldate>=1.8.1->trafilatura) (2024.2)\n",
            "Requirement already satisfied: regex!=2019.02.19,!=2021.8.27 in /usr/local/lib/python3.10/dist-packages (from dateparser>=1.1.2->htmldate>=1.8.1->trafilatura) (2024.9.11)\n",
            "Requirement already satisfied: tzlocal in /usr/local/lib/python3.10/dist-packages (from dateparser>=1.1.2->htmldate>=1.8.1->trafilatura) (5.2)\n",
            "Requirement already satisfied: six>=1.5 in /usr/local/lib/python3.10/dist-packages (from python-dateutil>=2.9.0.post0->htmldate>=1.8.1->trafilatura) (1.16.0)\n"
          ]
        }
      ]
    },
    {
      "cell_type": "code",
      "source": [
        "import requests"
      ],
      "metadata": {
        "id": "hz9-KDGSjue8"
      },
      "execution_count": 31,
      "outputs": []
    },
    {
      "cell_type": "code",
      "source": [
        "# URL для загрузки файла\n",
        "url = 'https://raw.githubusercontent.com/mannefedov/compling_nlp_hse_course/refs/heads/master/data/anna_karenina.txt'\n",
        "\n",
        "# Скачиваем содержимое файла\n",
        "response = requests.get(url)\n",
        "if response.status_code == 200:\n",
        "    # Декодируем текст в строку\n",
        "    text = response.text"
      ],
      "metadata": {
        "id": "d3AM3nuAhOhC"
      },
      "execution_count": 50,
      "outputs": []
    },
    {
      "cell_type": "code",
      "source": [
        "text[:1000]"
      ],
      "metadata": {
        "colab": {
          "base_uri": "https://localhost:8080/",
          "height": 191
        },
        "id": "bIDCFr0Gm_CA",
        "outputId": "983b7b87-61d4-4e27-f247-9a362240902a"
      },
      "execution_count": 51,
      "outputs": [
        {
          "output_type": "execute_result",
          "data": {
            "text/plain": [
              "'Annotation\\n\\n\\n«Анна Каренина» – это сложное, психологически утонченное, остропроблемное произведение, насыщенное приметами времени. Л.Н. Толстой на страницах произведения показывает, как рушатся остатки патриархального уклада жизни в России под натиском буржуазного прогресса, как падают нравы, ослабевают семейные устои, вырождается аристократия.\\n\\nРоман во многом автобиографичен. Работая над ним, Толстой уяснял взгляд на современность и свою собственную жизнь.\\n\\n\\n\\n\\n\\n* * *\\n\\n\\n\\nЛев Николаевич Толстой\\n\\nЧАСТЬ ПЕРВАЯ\\n\\nЧАСТЬ ВТОРАЯ\\n\\nЧАСТЬ ТРЕТЬЯ\\n\\nЧАСТЬ ЧЕТВЕРТАЯ\\n\\nЧАСТЬ ПЯТАЯ\\n\\nЧАСТЬ ШЕСТАЯ\\n\\nЧАСТЬ СЕДЬМАЯ\\n\\nЧАСТЬ ВОСЬМАЯ\\n\\n\\n\\n\\n\\n* * *\\n\\n\\n\\n\\n\\nLibrs.net\\n\\n\\nБлагодарим Вас за использование нашей библиотеки Librs.net.\\n\\n\\n\\n\\n\\nЛев Николаевич Толстой\\n\\nАННА КАРЕНИНА\\n\\n\\n\\n\\nМне отмщение, и аз воздам\\n\\n\\n\\n\\n\\nЧАСТЬ ПЕРВАЯ\\n\\n\\n\\n\\n\\nI\\n\\n\\nВсе счастливые семьи похожи друг на друга, каждая несчастливая семья несчастлива по-своему.\\n\\nВсе смешалось в доме Облонских. Жена узнала, что муж был в связи с бывшею в их доме француженкою-гуверн'"
            ],
            "application/vnd.google.colaboratory.intrinsic+json": {
              "type": "string"
            }
          },
          "metadata": {},
          "execution_count": 51
        }
      ]
    },
    {
      "cell_type": "code",
      "source": [
        "import re"
      ],
      "metadata": {
        "id": "HQxerb4WhUf2"
      },
      "execution_count": 52,
      "outputs": []
    },
    {
      "cell_type": "code",
      "source": [
        "cleaned_text = re.findall('[А-я].+',text)"
      ],
      "metadata": {
        "id": "A7SqcY0Yh2jx"
      },
      "execution_count": 87,
      "outputs": []
    },
    {
      "cell_type": "code",
      "source": [
        "strings_list = cleaned_text[:750]"
      ],
      "metadata": {
        "collapsed": true,
        "id": "jqC2gHgsmR-U"
      },
      "execution_count": 97,
      "outputs": []
    },
    {
      "cell_type": "code",
      "source": [
        "test"
      ],
      "metadata": {
        "colab": {
          "base_uri": "https://localhost:8080/"
        },
        "collapsed": true,
        "id": "e7PMNoElmerv",
        "outputId": "a0058c35-297b-44f6-fcfb-8bcde70c6a2f"
      },
      "execution_count": 89,
      "outputs": [
        {
          "output_type": "execute_result",
          "data": {
            "text/plain": [
              "['Анна Каренина» – это сложное, психологически утонченное, остропроблемное произведение, насыщенное приметами времени. Л.Н. Толстой на страницах произведения показывает, как рушатся остатки патриархального уклада жизни в России под натиском буржуазного прогресса, как падают нравы, ослабевают семейные устои, вырождается аристократия.',\n",
              " 'Роман во многом автобиографичен. Работая над ним, Толстой уяснял взгляд на современность и свою собственную жизнь.',\n",
              " 'Лев Николаевич Толстой',\n",
              " 'ЧАСТЬ ПЕРВАЯ',\n",
              " 'ЧАСТЬ ВТОРАЯ',\n",
              " 'ЧАСТЬ ТРЕТЬЯ',\n",
              " 'ЧАСТЬ ЧЕТВЕРТАЯ',\n",
              " 'ЧАСТЬ ПЯТАЯ',\n",
              " 'ЧАСТЬ ШЕСТАЯ',\n",
              " 'ЧАСТЬ СЕДЬМАЯ']"
            ]
          },
          "metadata": {},
          "execution_count": 89
        }
      ]
    },
    {
      "cell_type": "code",
      "source": [
        "def get_shingles(text, k=5):\n",
        "    \"\"\"генерирует список шинглов из строки\"\"\"\n",
        "    shingles = set()\n",
        "    for i in range(len(text) - k + 1):\n",
        "        shingle = text[i:i + k]\n",
        "        shingles.add(shingle)\n",
        "    return shingles"
      ],
      "metadata": {
        "id": "ApP62NrRoKdL"
      },
      "execution_count": 78,
      "outputs": []
    },
    {
      "cell_type": "code",
      "source": [
        "get_shingles(strings_list, 8)"
      ],
      "metadata": {
        "colab": {
          "base_uri": "https://localhost:8080/"
        },
        "id": "qZPGPYyIp33V",
        "outputId": "4904ecd4-66f3-4043-ebc3-f7de58694551"
      },
      "execution_count": 81,
      "outputs": [
        {
          "output_type": "execute_result",
          "data": {
            "text/plain": [
              "{' Каренин',\n",
              " ' насыщен',\n",
              " ' остропр',\n",
              " ' произве',\n",
              " ' психоло',\n",
              " ' сложное',\n",
              " ' утончен',\n",
              " ' это сло',\n",
              " ' – это с',\n",
              " ', насыще',\n",
              " ', остроп',\n",
              " ', психол',\n",
              " '» – это ',\n",
              " 'Анна Кар',\n",
              " 'Каренина',\n",
              " 'а Карени',\n",
              " 'а» – это',\n",
              " 'аренина»',\n",
              " 'асыщенно',\n",
              " 'блемное ',\n",
              " 'ведение,',\n",
              " 'гически ',\n",
              " 'дение, н',\n",
              " 'е произв',\n",
              " 'е, насыщ',\n",
              " 'е, остро',\n",
              " 'е, психо',\n",
              " 'едение, ',\n",
              " 'емное пр',\n",
              " 'ение, на',\n",
              " 'енина» –',\n",
              " 'енное пр',\n",
              " 'енное, о',\n",
              " 'ески уто',\n",
              " 'жное, пс',\n",
              " 'зведение',\n",
              " 'и утонче',\n",
              " 'ие, насы',\n",
              " 'изведени',\n",
              " 'ина» – э',\n",
              " 'ихологич',\n",
              " 'ически у',\n",
              " 'ки утонч',\n",
              " 'лемное п',\n",
              " 'логическ',\n",
              " 'ложное, ',\n",
              " 'мное про',\n",
              " 'на Карен',\n",
              " 'на» – эт',\n",
              " 'насыщенн',\n",
              " 'ние, нас',\n",
              " 'нина» – ',\n",
              " 'нна Каре',\n",
              " 'нное, ос',\n",
              " 'ное прои',\n",
              " 'ное, ост',\n",
              " 'ное, пси',\n",
              " 'нченное,',\n",
              " 'о сложно',\n",
              " 'облемное',\n",
              " 'огически',\n",
              " 'ое произ',\n",
              " 'ое, остр',\n",
              " 'ое, псих',\n",
              " 'ожное, п',\n",
              " 'оизведен',\n",
              " 'ологичес',\n",
              " 'онченное',\n",
              " 'опроблем',\n",
              " 'остропро',\n",
              " 'проблемн',\n",
              " 'произвед',\n",
              " 'психолог',\n",
              " 'ренина» ',\n",
              " 'роблемно',\n",
              " 'роизведе',\n",
              " 'ропробле',\n",
              " 'сихологи',\n",
              " 'ски утон',\n",
              " 'сложное,',\n",
              " 'стропроб',\n",
              " 'сыщенное',\n",
              " 'то сложн',\n",
              " 'тонченно',\n",
              " 'тропробл',\n",
              " 'утонченн',\n",
              " 'хологиче',\n",
              " 'ченное, ',\n",
              " 'чески ут',\n",
              " 'щенное п',\n",
              " 'ыщенное ',\n",
              " 'это слож',\n",
              " '– это сл'}"
            ]
          },
          "metadata": {},
          "execution_count": 81
        }
      ]
    },
    {
      "cell_type": "code",
      "source": [
        "import hashlib\n",
        "from collections import defaultdict\n",
        "from tqdm.auto import tqdm\n",
        "\n",
        "\n",
        "def hash_string(s):\n",
        "    \"\"\"хеширует строку и возвращает число\"\"\"\n",
        "    return int(hashlib.md5(s.encode('utf8')).hexdigest(), 16)\n",
        "\n",
        "def generate_hash_functions(k):\n",
        "    \"\"\"генерирует k хеш-функций добавляя индекс к строке\"\"\"\n",
        "\n",
        "    functions = []\n",
        "    for i in range(k):\n",
        "        functions.append(lambda x, i=i: hash_string(x + str(i)))\n",
        "    return functions"
      ],
      "metadata": {
        "id": "TNdcgNdIqCWq"
      },
      "execution_count": 82,
      "outputs": []
    },
    {
      "cell_type": "code",
      "source": [
        "def compute_minhash_signature(shingles, hash_funcs):\n",
        "    \"\"\"вычисляет minhash-сигнатуру для списка шинглов\"\"\"\n",
        "    signature = []\n",
        "    for hash_func in hash_funcs:\n",
        "        min_hash = min(hash_func(shingle) for shingle in shingles)\n",
        "        signature.append(min_hash)\n",
        "    return signature"
      ],
      "metadata": {
        "id": "r4-0Ci9gqZJT"
      },
      "execution_count": 83,
      "outputs": []
    },
    {
      "cell_type": "code",
      "source": [
        "def lsh(signatures, bands):\n",
        "    \"\"\"Разрезает сигнатуры на куски (bands), и группирует индексы сигнатур по совпадению кусков\"\"\"\n",
        "    buckets = defaultdict(list)\n",
        "    band_length = len(signatures[0]) // bands\n",
        "\n",
        "    for idx, sig in tqdm(enumerate(signatures)):\n",
        "        for b in range(0, bands, band_length):\n",
        "            start = b\n",
        "            end = start + band_length\n",
        "            band = tuple(sig[start:end])\n",
        "            buckets[band].append(idx)\n",
        "    return buckets"
      ],
      "metadata": {
        "id": "8JZRJO6oq2WZ"
      },
      "execution_count": 84,
      "outputs": []
    },
    {
      "cell_type": "code",
      "source": [
        "def find_similar_strings(strings_list, k=5, num_hashes=100, bands=20):\n",
        "    \"\"\"Finds similar strings using MinHash and LSH.\"\"\"\n",
        "    hash_funcs = generate_hash_functions(num_hashes)\n",
        "    signatures = []\n",
        "    shingles_list = []\n",
        "\n",
        "    # каждый текст обрабатывается отдельно\n",
        "    # находятся шинглы и рассчитываются сигнатуры\n",
        "    for string in tqdm(strings_list):\n",
        "        shingles = get_shingles(string, k)\n",
        "        shingles_list.append(shingles)\n",
        "        signature = compute_minhash_signature(shingles, hash_funcs)\n",
        "        signatures.append(signature)\n",
        "\n",
        "    # вычисляются кандидаты по кускам сигнатур\n",
        "    buckets = lsh(signatures, bands)\n",
        "    candidates = set()\n",
        "    for bucket in buckets.values():\n",
        "        if len(bucket) > 1:\n",
        "            for i in bucket:\n",
        "                for j in bucket:\n",
        "                    if i < j:\n",
        "                        candidates.add((i, j))\n",
        "\n",
        "\n",
        "    return candidates"
      ],
      "metadata": {
        "id": "c8NUagTkq9Pf"
      },
      "execution_count": 85,
      "outputs": []
    },
    {
      "cell_type": "code",
      "source": [
        "candidates = find_similar_strings(strings_list)"
      ],
      "metadata": {
        "colab": {
          "base_uri": "https://localhost:8080/",
          "height": 81,
          "referenced_widgets": [
            "5c4947ce579c47ad80fe9a3895beb838",
            "7b7f912cf4db42a7a27d8263f2e4b121",
            "7661dcb32406449ca1805eae1443316f",
            "4ffdb4ce83ce4566872dbf6454ac5188",
            "bc9e68181c3e440f934d31ff15cfc36b",
            "c55b8723fc294d1ea31e9a0c5016ed2b",
            "7476cd3e73634d93945aa5f2c2dc8867",
            "c4b77c94fb634485b3a51e8dc3d5c07d",
            "ec89f2ce35694869be020632fa0b1687",
            "2d12c76a37ee4ce281f0dd855c656b58",
            "3caf04c0a6cb4666b31a3163357ebbdc",
            "16b3a132ca6a47f7b52098d5ec28ee5e",
            "1ce7481e2e344fe3bf381633cc47d9c9",
            "7faaef2b0db645959e9e24db223b6325",
            "c8e957fa0b9544d3b50b06a8bb1318d6",
            "dd97fa464d23467e8e13d837a8fff09f",
            "c8377223ea1248618477490dda44aea7",
            "8652d657a8d34a88ac1176b646b3ed83",
            "a80318de2e3b4c1d878a9fa5fc05093b",
            "d4fff0caf5aa4a4ebc67dcf1ec9ff37f",
            "20518db3b09946ddb111b3590559ee5f",
            "94b1a31041b34efa9ad6f782c2805f34"
          ]
        },
        "id": "-jJAy_mKrWLg",
        "outputId": "fcfb7c83-c4c6-400a-cb12-caf4e7762e11"
      },
      "execution_count": 91,
      "outputs": [
        {
          "output_type": "display_data",
          "data": {
            "text/plain": [
              "  0%|          | 0/750 [00:00<?, ?it/s]"
            ],
            "application/vnd.jupyter.widget-view+json": {
              "version_major": 2,
              "version_minor": 0,
              "model_id": "5c4947ce579c47ad80fe9a3895beb838"
            }
          },
          "metadata": {}
        },
        {
          "output_type": "display_data",
          "data": {
            "text/plain": [
              "0it [00:00, ?it/s]"
            ],
            "application/vnd.jupyter.widget-view+json": {
              "version_major": 2,
              "version_minor": 0,
              "model_id": "16b3a132ca6a47f7b52098d5ec28ee5e"
            }
          },
          "metadata": {}
        }
      ]
    },
    {
      "cell_type": "code",
      "source": [
        "candidates"
      ],
      "metadata": {
        "colab": {
          "base_uri": "https://localhost:8080/"
        },
        "id": "xbgiN0z5sPEg",
        "outputId": "267e853a-5c03-457a-f155-1c21e37c8698"
      },
      "execution_count": 92,
      "outputs": [
        {
          "output_type": "execute_result",
          "data": {
            "text/plain": [
              "{(2, 12), (3, 15), (50, 134), (200, 385), (386, 611)}"
            ]
          },
          "metadata": {},
          "execution_count": 92
        }
      ]
    },
    {
      "cell_type": "code",
      "source": [
        "def get_jaccard(x, y):\n",
        "    x_sh = get_shingles(x, 10)\n",
        "    y_sh = get_shingles(y, 10)\n",
        "\n",
        "    return len(x_sh & y_sh) / len(x_sh | y_sh)"
      ],
      "metadata": {
        "id": "fWuPN26Qsf7T"
      },
      "execution_count": 98,
      "outputs": []
    },
    {
      "cell_type": "code",
      "source": [
        "(get_jaccard(strings_list[2], strings_list[12]),\n",
        "get_jaccard(strings_list[3], strings_list[15]),\n",
        "get_jaccard(strings_list[386], strings_list[611]),\n",
        "get_jaccard(strings_list[50], strings_list[134]))"
      ],
      "metadata": {
        "colab": {
          "base_uri": "https://localhost:8080/",
          "height": 263
        },
        "id": "8gwxgaegsjFU",
        "outputId": "e1fc4ed9-4bd9-457a-c08e-7442d07a4958"
      },
      "execution_count": 109,
      "outputs": [
        {
          "output_type": "error",
          "ename": "ZeroDivisionError",
          "evalue": "division by zero",
          "traceback": [
            "\u001b[0;31m---------------------------------------------------------------------------\u001b[0m",
            "\u001b[0;31mZeroDivisionError\u001b[0m                         Traceback (most recent call last)",
            "\u001b[0;32m<ipython-input-109-e8bb2cdc7b82>\u001b[0m in \u001b[0;36m<cell line: 1>\u001b[0;34m()\u001b[0m\n\u001b[1;32m      2\u001b[0m \u001b[0mget_jaccard\u001b[0m\u001b[0;34m(\u001b[0m\u001b[0mstrings_list\u001b[0m\u001b[0;34m[\u001b[0m\u001b[0;36m3\u001b[0m\u001b[0;34m]\u001b[0m\u001b[0;34m,\u001b[0m \u001b[0mstrings_list\u001b[0m\u001b[0;34m[\u001b[0m\u001b[0;36m15\u001b[0m\u001b[0;34m]\u001b[0m\u001b[0;34m)\u001b[0m\u001b[0;34m,\u001b[0m\u001b[0;34m\u001b[0m\u001b[0;34m\u001b[0m\u001b[0m\n\u001b[1;32m      3\u001b[0m \u001b[0mget_jaccard\u001b[0m\u001b[0;34m(\u001b[0m\u001b[0mstrings_list\u001b[0m\u001b[0;34m[\u001b[0m\u001b[0;36m386\u001b[0m\u001b[0;34m]\u001b[0m\u001b[0;34m,\u001b[0m \u001b[0mstrings_list\u001b[0m\u001b[0;34m[\u001b[0m\u001b[0;36m611\u001b[0m\u001b[0;34m]\u001b[0m\u001b[0;34m)\u001b[0m\u001b[0;34m,\u001b[0m\u001b[0;34m\u001b[0m\u001b[0;34m\u001b[0m\u001b[0m\n\u001b[0;32m----> 4\u001b[0;31m get_jaccard(strings_list[50], strings_list[134]))\n\u001b[0m",
            "\u001b[0;32m<ipython-input-98-21bc51cfd439>\u001b[0m in \u001b[0;36mget_jaccard\u001b[0;34m(x, y)\u001b[0m\n\u001b[1;32m      3\u001b[0m     \u001b[0my_sh\u001b[0m \u001b[0;34m=\u001b[0m \u001b[0mget_shingles\u001b[0m\u001b[0;34m(\u001b[0m\u001b[0my\u001b[0m\u001b[0;34m,\u001b[0m \u001b[0;36m10\u001b[0m\u001b[0;34m)\u001b[0m\u001b[0;34m\u001b[0m\u001b[0;34m\u001b[0m\u001b[0m\n\u001b[1;32m      4\u001b[0m \u001b[0;34m\u001b[0m\u001b[0m\n\u001b[0;32m----> 5\u001b[0;31m     \u001b[0;32mreturn\u001b[0m \u001b[0mlen\u001b[0m\u001b[0;34m(\u001b[0m\u001b[0mx_sh\u001b[0m \u001b[0;34m&\u001b[0m \u001b[0my_sh\u001b[0m\u001b[0;34m)\u001b[0m \u001b[0;34m/\u001b[0m \u001b[0mlen\u001b[0m\u001b[0;34m(\u001b[0m\u001b[0mx_sh\u001b[0m \u001b[0;34m|\u001b[0m \u001b[0my_sh\u001b[0m\u001b[0;34m)\u001b[0m\u001b[0;34m\u001b[0m\u001b[0;34m\u001b[0m\u001b[0m\n\u001b[0m",
            "\u001b[0;31mZeroDivisionError\u001b[0m: division by zero"
          ]
        }
      ]
    },
    {
      "cell_type": "code",
      "source": [
        "strings_list[2]"
      ],
      "metadata": {
        "colab": {
          "base_uri": "https://localhost:8080/",
          "height": 35
        },
        "id": "Z3tE8cGws4HB",
        "outputId": "f3895335-b1a7-4f5b-d720-a55d427bf117"
      },
      "execution_count": 103,
      "outputs": [
        {
          "output_type": "execute_result",
          "data": {
            "text/plain": [
              "'Лев Николаевич Толстой'"
            ],
            "application/vnd.google.colaboratory.intrinsic+json": {
              "type": "string"
            }
          },
          "metadata": {},
          "execution_count": 103
        }
      ]
    },
    {
      "cell_type": "code",
      "source": [
        "strings_list[12]"
      ],
      "metadata": {
        "colab": {
          "base_uri": "https://localhost:8080/",
          "height": 35
        },
        "id": "2luqyb6ftpna",
        "outputId": "42abefd3-01bc-4518-849f-f0cbbb08091a"
      },
      "execution_count": 104,
      "outputs": [
        {
          "output_type": "execute_result",
          "data": {
            "text/plain": [
              "'Лев Николаевич Толстой'"
            ],
            "application/vnd.google.colaboratory.intrinsic+json": {
              "type": "string"
            }
          },
          "metadata": {},
          "execution_count": 104
        }
      ]
    },
    {
      "cell_type": "code",
      "source": [
        "strings_list[386]"
      ],
      "metadata": {
        "colab": {
          "base_uri": "https://localhost:8080/",
          "height": 52
        },
        "id": "F6kv_i-9tte6",
        "outputId": "71aab597-12a9-408e-d7ba-f70c79359495"
      },
      "execution_count": 105,
      "outputs": [
        {
          "output_type": "execute_result",
          "data": {
            "text/plain": [
              "'Узнаю коней ретивых по каким-то их таврам, юношей влюбленных узнаю по их глазам, – продекламировал Степан Аркадьич. – У тебя все впереди.'"
            ],
            "application/vnd.google.colaboratory.intrinsic+json": {
              "type": "string"
            }
          },
          "metadata": {},
          "execution_count": 105
        }
      ]
    },
    {
      "cell_type": "code",
      "source": [
        "strings_list[611]"
      ],
      "metadata": {
        "colab": {
          "base_uri": "https://localhost:8080/",
          "height": 52
        },
        "id": "NahJDZWatwQQ",
        "outputId": "6481718f-63da-4ca0-ecec-0eb32f189c5a"
      },
      "execution_count": 106,
      "outputs": [
        {
          "output_type": "execute_result",
          "data": {
            "text/plain": [
              "'Узнаю коней ретивых по каким-то их таврам, юношей влюбленных узнаю по их глазам, – продекламировал Степан Аркадьич точно так же, как прежде Левину.'"
            ],
            "application/vnd.google.colaboratory.intrinsic+json": {
              "type": "string"
            }
          },
          "metadata": {},
          "execution_count": 106
        }
      ]
    },
    {
      "cell_type": "code",
      "source": [
        "strings_list[50]"
      ],
      "metadata": {
        "colab": {
          "base_uri": "https://localhost:8080/",
          "height": 35
        },
        "id": "_s46e05qtzPD",
        "outputId": "30dec8ba-0a82-40ac-c613-1b8dd90e5fbf"
      },
      "execution_count": 110,
      "outputs": [
        {
          "output_type": "execute_result",
          "data": {
            "text/plain": [
              "'Слушаю-с.'"
            ],
            "application/vnd.google.colaboratory.intrinsic+json": {
              "type": "string"
            }
          },
          "metadata": {},
          "execution_count": 110
        }
      ]
    },
    {
      "cell_type": "code",
      "source": [
        "strings_list[134]"
      ],
      "metadata": {
        "colab": {
          "base_uri": "https://localhost:8080/",
          "height": 35
        },
        "id": "tq5GeouPurYs",
        "outputId": "3ef94700-40d9-4229-fdd9-c5bdba66b4ac"
      },
      "execution_count": 111,
      "outputs": [
        {
          "output_type": "execute_result",
          "data": {
            "text/plain": [
              "'Слушаю-с.'"
            ],
            "application/vnd.google.colaboratory.intrinsic+json": {
              "type": "string"
            }
          },
          "metadata": {},
          "execution_count": 111
        }
      ]
    },
    {
      "cell_type": "code",
      "source": [],
      "metadata": {
        "id": "4XhErWQiuuVF"
      },
      "execution_count": null,
      "outputs": []
    }
  ]
}